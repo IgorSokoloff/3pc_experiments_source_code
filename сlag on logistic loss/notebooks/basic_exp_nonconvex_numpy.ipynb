{
 "cells": [
  {
   "cell_type": "markdown",
   "id": "67f4d9ad-325a-451f-a377-0bda4e9f8108",
   "metadata": {},
   "source": [
    "# Importing packages"
   ]
  },
  {
   "cell_type": "code",
   "execution_count": 1,
   "id": "749ac99e-2b31-4c28-81f4-b0c01b2bc925",
   "metadata": {},
   "outputs": [],
   "source": [
    "from matplotlib import pyplot as plt\n",
    "from sklearn.datasets import load_svmlight_file\n",
    "import numpy as np\n",
    "import pickle"
   ]
  },
  {
   "cell_type": "code",
   "execution_count": 2,
   "id": "246ef1dd-af2a-484b-94bd-eedd698ebeb4",
   "metadata": {},
   "outputs": [],
   "source": [
    "import pandas as pd"
   ]
  },
  {
   "cell_type": "markdown",
   "id": "f6c46855-81ec-4c4c-83e5-0b3282fadd63",
   "metadata": {
    "tags": []
   },
   "source": [
    "# Functions"
   ]
  },
  {
   "cell_type": "code",
   "execution_count": 3,
   "id": "80f323f5-fa36-4b8c-8f08-3791a26fff4c",
   "metadata": {},
   "outputs": [],
   "source": [
    "def loss(w, X, y, lambda_):\n",
    "    z = - X.toarray() * y[:, None]\n",
    "    exp = np.exp(z @ w)\n",
    "    log = np.log(1 + exp)\n",
    "    loss_1 = log.mean()\n",
    "    reg = 1. - 1. / (w ** 2 + 1.)\n",
    "    reg = reg.sum()\n",
    "    return loss_1 + lambda_ * reg"
   ]
  },
  {
   "cell_type": "code",
   "execution_count": 4,
   "id": "b5cede30-4de4-4a7d-a367-28998b63d36a",
   "metadata": {},
   "outputs": [],
   "source": [
    "def grad(w, X, y, lambda_):\n",
    "    z = - X.toarray() * y[:, None]\n",
    "    coef = 1. - 1. / (1 + np.exp(z @ w))\n",
    "    grad_loss_1 = (z * coef[:, None]).mean(axis=0)\n",
    "    grad_loss_2 = 2 * w * (1. / (1 + w ** 2) ** 2)\n",
    "    return grad_loss_1 + lambda_ * grad_loss_2"
   ]
  },
  {
   "cell_type": "code",
   "execution_count": 5,
   "id": "58c96e60-8fb0-4219-818d-32a8687cd228",
   "metadata": {},
   "outputs": [],
   "source": [
    "def grad_compute(w, data, lambda_):\n",
    "    return np.array([grad(w, feats, labels, lambda_)\n",
    "                    for (feats, labels) in data], dtype=np.longdouble)"
   ]
  },
  {
   "cell_type": "code",
   "execution_count": 6,
   "id": "a546289e-77fb-4f6f-bab1-c8aec8bd3f2b",
   "metadata": {},
   "outputs": [],
   "source": [
    "def smoothness(features, lambda_):\n",
    "    xtx = features.T.dot(features)\n",
    "    xtx = xtx.toarray()\n",
    "    n = features.shape[0]\n",
    "    return np.max(np.linalg.eigvalsh(xtx)) / (4 * n) + 2 * lambda_"
   ]
  },
  {
   "cell_type": "code",
   "execution_count": 7,
   "id": "e942c6b4-783b-4c98-b123-10aa0eb39d69",
   "metadata": {},
   "outputs": [],
   "source": [
    "def top_k(vec, k):\n",
    "    assert len(vec) >= k\n",
    "    inds = np.argsort(vec)[-k:]\n",
    "    inds = list(inds)\n",
    "    mask = np.zeros_like(vec)\n",
    "    mask[inds] = 1\n",
    "    return np.multiply(vec, mask)"
   ]
  },
  {
   "cell_type": "code",
   "execution_count": 8,
   "id": "90800a3a-d139-4863-963e-31473564f9d3",
   "metadata": {},
   "outputs": [],
   "source": [
    "def beta_top_k(k, d):\n",
    "    alpha = float(k) / float(d)\n",
    "    return (1 - alpha) / (1 - np.sqrt(1 - alpha))"
   ]
  },
  {
   "cell_type": "code",
   "execution_count": 9,
   "id": "8984c0ef-f0b0-4998-9114-5a87629526f4",
   "metadata": {},
   "outputs": [],
   "source": [
    "def print_and_return(hist_list):\n",
    "    min_ind = 0\n",
    "    curr_ind = 0\n",
    "    min_val = hist_list[0][0][-1]\n",
    "    for hist in hist_list:\n",
    "        if hist[0][-1] < min_val:\n",
    "            min_ind = curr_ind\n",
    "            min_val = hist[0][-1]\n",
    "        curr_ind += 1\n",
    "        print(hist[0][-1], hist[1][-1])\n",
    "    return min_ind"
   ]
  },
  {
   "cell_type": "markdown",
   "id": "de27fe57-e88b-436d-a40c-c1ad924d3428",
   "metadata": {
    "tags": []
   },
   "source": [
    "# Algorithms"
   ]
  },
  {
   "cell_type": "code",
   "execution_count": null,
   "id": "7f08fce8-c33f-4a51-928f-90c3b9c0cc6d",
   "metadata": {},
   "outputs": [],
   "source": [
    "def LAG_step(x_k, g_k, comm, data, lambda_, grad_k_prev, zeta, stepsize):\n",
    "    x_k -= stepsize * g_k.mean(axis=0)\n",
    "    grad_k = np.array(grad_compute(x_k, data, lambda_), dtype=np.float64)\n",
    "    trigger_rhs = zeta * np.linalg.norm(grad_k - grad_k_prev, ord=2, axis=1)\n",
    "    trigger_lhs = np.linalg.norm(g_k - grad_k, ord=2, axis=1)\n",
    "    trigger = np.expand_dims(np.array(trigger_lhs > trigger_rhs), 1)\n",
    "    g_k = np.multiply(grad_k, trigger) + np.multiply(g_k, 1 - trigger)\n",
    "    comm += len(x_k) * trigger.sum()\n",
    "    return x_k, g_k, grad_k, comm"
   ]
  },
  {
   "cell_type": "code",
   "execution_count": null,
   "id": "f7d5c73c-42b6-4e70-896d-81d9606067a3",
   "metadata": {},
   "outputs": [],
   "source": [
    "def LAG(x_0, data, lambda_, zeta, max_comm):\n",
    "    g_k = np.array(grad_compute(x_0, data, lambda_), dtype=np.longdouble)\n",
    "    grad_k_prev = np.array(np.copy(g_k))\n",
    "    x_k = np.array(np.copy(x_0))\n",
    "    history = [np.linalg.norm(g_k.mean(axis=0))]\n",
    "    comm = len(data) * len(x_0)\n",
    "    history_comm = [0]\n",
    "    stepsize = 1. / (L + L_tilde * np.sqrt(zeta))\n",
    "    while(history_comm[-1] < max_comm):\n",
    "        x_k, g_k, grad_k_prev, comm = LAG_step(\n",
    "            x_k, g_k, comm, data, lambda_, grad_k_prev, zeta, stepsize\n",
    "        )\n",
    "        history.append(np.linalg.norm(grad_k_prev.mean(axis=0)))\n",
    "        history_comm.append(comm)\n",
    "        print('Currently communicated {} float numbers'.format(comm), end='\\r')\n",
    "    return history, history_comm"
   ]
  },
  {
   "cell_type": "code",
   "execution_count": null,
   "id": "8d1437a6-eb8f-4cba-88d1-41118ddd81b9",
   "metadata": {},
   "outputs": [],
   "source": [
    "def GD(x_0, data, lambda_, num_clients, max_iter):\n",
    "    g_k = None\n",
    "    x_k = np.array(np.copy(x_0), dtype=np.longdouble)\n",
    "    history = []\n",
    "    history_comm = []\n",
    "    stepsize = 1. / L\n",
    "    comm = 0\n",
    "    for i in range(max_iter):\n",
    "        g_k = np.array(grad_compute(x_k, data, lambda_), dtype=np.longdouble)\n",
    "        print('Iteration {} / {}'.format(i + 1, max_iter), end='\\r')\n",
    "        grad_ = g_k.mean(axis=0)\n",
    "        history.append(np.linalg.norm(grad_))\n",
    "        history_comm.append(comm)\n",
    "        x_k -= stepsize * grad_\n",
    "        comm += num_clients * len(x_0)\n",
    "    return history, history_comm"
   ]
  },
  {
   "cell_type": "code",
   "execution_count": 76,
   "id": "9adf93b5-3b3a-417d-9eb2-733e5f9a15e2",
   "metadata": {},
   "outputs": [],
   "source": [
    "def CLAG_step(x_k, g_k, comm, data, lambda_,\n",
    "              trigger_beta, grad_k_prev, k, stepsize):\n",
    "    x_k -= stepsize * g_k.mean(axis=0, dtype=np.longdouble)\n",
    "    grad_k = np.array(grad_compute(x_k, data, lambda_), dtype=np.longdouble)\n",
    "    trigger_rhs = trigger_beta * np.linalg.norm(\n",
    "        grad_k - grad_k_prev, ord=2, axis=1)\n",
    "    print(trigger_rhs.shape)\n",
    "    trigger_lhs = np.linalg.norm(g_k - grad_k, ord=2, axis=1)\n",
    "    trigger = np.expand_dims(np.array(trigger_lhs > trigger_rhs), 1)\n",
    "    print(trigger)\n",
    "    compressed = np.vstack([top_k(grad_k[i] - g_k[i], k)\n",
    "                            for i in range(len(g_k))])\n",
    "    print(np.multiply(compressed, trigger))\n",
    "    g_k += np.multiply(compressed, trigger)\n",
    "    comm += trigger.sum() * k\n",
    "    return x_k, g_k, grad_k, comm"
   ]
  },
  {
   "cell_type": "code",
   "execution_count": 11,
   "id": "f5b08a06-ec25-49e5-bbb8-4c24bb928d4c",
   "metadata": {},
   "outputs": [],
   "source": [
    "def CLAG(x_0, data, lambda_, k, trigger_beta, max_comm):\n",
    "    assert trigger_beta > 0\n",
    "    alpha = float(k) / len(x_0)\n",
    "    beta = beta_top_k(k, len(x_0))\n",
    "    theta = 1 - np.sqrt(1 - alpha)\n",
    "    g_k = np.array(grad_compute(x_0, data, lambda_), dtype=np.longdouble)\n",
    "    grad_k_prev = np.array(np.copy(g_k))\n",
    "    x_k = np.array(np.copy(x_0))\n",
    "    history = [np.linalg.norm(g_k.mean(axis=0))]\n",
    "    history_comm = [0]\n",
    "    comm = len(x_0) * len(data)\n",
    "    stepsize = 1. / (L + L_tilde * np.sqrt(max(beta, trigger_beta)/theta))\n",
    "    while(history_comm[-1] < max_comm):\n",
    "        print('Currently communicated {} float numbers'.format(comm), end='\\r')\n",
    "        history_comm.append(int(comm))\n",
    "        x_k, g_k, grad_k_prev, comm = CLAG_step(\n",
    "            x_k, g_k, comm, data, lambda_, trigger_beta,\n",
    "            grad_k_prev, k, stepsize\n",
    "        )\n",
    "        history.append(np.linalg.norm(grad_k_prev.mean(axis=0)))\n",
    "    return history, history_comm"
   ]
  },
  {
   "cell_type": "code",
   "execution_count": 77,
   "id": "d4173860-b1d9-4355-8857-7f74adbb3e68",
   "metadata": {},
   "outputs": [],
   "source": [
    "def CLAG_it(x_0, data, lambda_, k, trigger_beta, tol):\n",
    "    assert trigger_beta >= 0\n",
    "    alpha = float(k) / len(x_0)\n",
    "    beta = beta_top_k(k, len(x_0))\n",
    "    theta = 1 - np.sqrt(1 - alpha)\n",
    "    g_k = np.array(grad_compute(x_0, data, lambda_), dtype=np.longdouble)\n",
    "    grad_k_prev = np.copy(g_k)\n",
    "    x_k = np.array(np.copy(x_0))\n",
    "    comm = len(x_0) * len(data)\n",
    "    stepsize = 1. / (L + L_tilde * np.sqrt(max(beta, trigger_beta)/theta))\n",
    "    print('Log: beta {}, theta{}, zeta {}, stepsize {}'.format(beta, theta, trigger_beta, stepsize))\n",
    "    while np.linalg.norm(grad_k_prev.mean(axis=0)) > tol:\n",
    "        x_k, g_k, grad_k_prev, comm = CLAG_step(\n",
    "            x_k, g_k, comm, data, lambda_, trigger_beta,\n",
    "            grad_k_prev, k, stepsize\n",
    "        )\n",
    "        print('Tolerance = ', np.linalg.norm(grad_k_prev.mean(axis=0)),\n",
    "              end='\\r')\n",
    "    print('')\n",
    "    return comm"
   ]
  },
  {
   "cell_type": "code",
   "execution_count": 78,
   "id": "026c6331-5287-48af-80b9-74c00e55404d",
   "metadata": {},
   "outputs": [],
   "source": [
    "def heatmap_CLAG(x_0, data, lambda_, ks, trigger_betas, tol, file):\n",
    "    heatmap = np.zeros(shape=(len(ks), len(trigger_betas)))\n",
    "    for k_id, k in enumerate(ks):\n",
    "        print('k = ', k)\n",
    "        for beta_id, trigger_beta in enumerate(trigger_betas):\n",
    "            print('trigger_beta = ', trigger_beta)\n",
    "            heatmap[k_id, beta_id] = CLAG_it(x_0,\n",
    "                                             data,\n",
    "                                             lambda_,\n",
    "                                             k,\n",
    "                                             trigger_beta,\n",
    "                                             tol)\n",
    "            np.save(file, heatmap)\n",
    "    return heatmap"
   ]
  },
  {
   "cell_type": "code",
   "execution_count": null,
   "id": "deac4fa7-5129-448e-8dd8-87889152d0bd",
   "metadata": {},
   "outputs": [],
   "source": [
    "def EF21(x_0, data, lambda_, k, max_iter):\n",
    "    alpha = float(k) / len(x_0)\n",
    "    beta = (1 - alpha) / (1 - np.sqrt(1 - alpha))\n",
    "    theta = 1 - np.sqrt(1 - alpha)\n",
    "    g_k = np.array(grad_compute(x_0, data, lambda_), dtype=np.longdouble)\n",
    "    x_k = np.array(np.copy(x_0))\n",
    "    history = [np.linalg.norm(g_k.mean(axis=0))]\n",
    "    history_comm = [0]\n",
    "    comm = len(x_0) * len(data)\n",
    "    stepsize = 1. / (L + L_tilde * np.sqrt(beta/theta))\n",
    "    for i in range(max_iter):\n",
    "        print('Currently communicated {} float numbers'.format(comm), end='\\r')\n",
    "        x_k -= stepsize * g_k.mean(axis=0)\n",
    "        history_comm.append(int(comm))\n",
    "        grad_k = np.array(grad_compute(x_k, data, lambda_), dtype=np.float64)\n",
    "        history.append(np.linalg.norm(grad_k.mean(axis=0)))\n",
    "        compressed = np.vstack([top_k(grad_k[i] - g_k[i], k)\n",
    "                                 for i in range(len(g_k))])\n",
    "        g_k += compressed\n",
    "        comm += len(data) * k\n",
    "        print(comm, end='\\r')\n",
    "    return history, history_comm"
   ]
  },
  {
   "cell_type": "markdown",
   "id": "88de5b44-3283-4cf3-aa54-df6c7ebfbd12",
   "metadata": {
    "tags": []
   },
   "source": [
    "# Phishing dataset"
   ]
  },
  {
   "cell_type": "markdown",
   "id": "2b9cabd7-90c8-4099-8377-3e5239252c00",
   "metadata": {},
   "source": [
    "## Setup"
   ]
  },
  {
   "cell_type": "code",
   "execution_count": 79,
   "id": "2fba64b9-a22e-4397-9c85-a20455175bda",
   "metadata": {},
   "outputs": [],
   "source": [
    "num_clients = 20"
   ]
  },
  {
   "cell_type": "code",
   "execution_count": 49,
   "id": "73fc1ed0-32be-4245-a555-1922e24d3c2e",
   "metadata": {},
   "outputs": [],
   "source": [
    "lambda_ = 0.1"
   ]
  },
  {
   "cell_type": "code",
   "execution_count": 50,
   "id": "4de3c4c7-164f-4890-a32d-3833b16daa16",
   "metadata": {},
   "outputs": [],
   "source": [
    "raw_data = load_svmlight_file('../data/phishing')"
   ]
  },
  {
   "cell_type": "code",
   "execution_count": 51,
   "id": "a5ec27b8-7b6f-4329-b44c-30b1278dd317",
   "metadata": {},
   "outputs": [],
   "source": [
    "X, y = raw_data"
   ]
  },
  {
   "cell_type": "code",
   "execution_count": 52,
   "id": "4e37e7e7-01d8-4030-b9b6-326668c6dedc",
   "metadata": {},
   "outputs": [],
   "source": [
    "res = X.shape[0] % num_clients"
   ]
  },
  {
   "cell_type": "code",
   "execution_count": 53,
   "id": "1ce87efd-c2d6-46f0-a04f-f41a99d4f3df",
   "metadata": {},
   "outputs": [
    {
     "data": {
      "text/plain": [
       "15"
      ]
     },
     "execution_count": 53,
     "metadata": {},
     "output_type": "execute_result"
    }
   ],
   "source": [
    "res"
   ]
  },
  {
   "cell_type": "code",
   "execution_count": 54,
   "id": "735b6a18-4ada-4ba4-b0dd-4c64c035116d",
   "metadata": {},
   "outputs": [],
   "source": [
    "y = 2 * y - 1"
   ]
  },
  {
   "cell_type": "code",
   "execution_count": 55,
   "id": "f46552bb-1fc3-4a90-93f7-8a21c4185d6e",
   "metadata": {},
   "outputs": [],
   "source": [
    "X = X[:-res]\n",
    "y = y[:-res]"
   ]
  },
  {
   "cell_type": "code",
   "execution_count": 56,
   "id": "62c98e2c-3685-4da3-9d18-4b499448fb84",
   "metadata": {},
   "outputs": [],
   "source": [
    "n = X.shape[0]"
   ]
  },
  {
   "cell_type": "code",
   "execution_count": 57,
   "id": "5ce34dd2-c42d-4a3f-a82a-8ba8683dd217",
   "metadata": {},
   "outputs": [],
   "source": [
    "d = X.shape[1]"
   ]
  },
  {
   "cell_type": "code",
   "execution_count": 58,
   "id": "3fe45e89-c291-4442-b988-84aabd59eb2b",
   "metadata": {},
   "outputs": [
    {
     "data": {
      "text/plain": [
       "array([-1., -1., -1., ..., -1., -1., -1.])"
      ]
     },
     "execution_count": 58,
     "metadata": {},
     "output_type": "execute_result"
    }
   ],
   "source": [
    "y"
   ]
  },
  {
   "cell_type": "code",
   "execution_count": 59,
   "id": "5339d377-cce3-4ccf-85bd-d77208c6c15b",
   "metadata": {},
   "outputs": [],
   "source": [
    "inds = np.array_split(np.arange(n), num_clients)"
   ]
  },
  {
   "cell_type": "code",
   "execution_count": 60,
   "id": "06b84fc7-1485-48ba-b11a-60126f3f0c1f",
   "metadata": {},
   "outputs": [],
   "source": [
    "data = []\n",
    "for i in range(num_clients):\n",
    "    data.append((X[inds[i]][:], y[inds[i]]))"
   ]
  },
  {
   "cell_type": "code",
   "execution_count": 61,
   "id": "20768203-0a6b-4bb4-a339-e9c4f48f1342",
   "metadata": {},
   "outputs": [],
   "source": [
    "L = smoothness(X, lambda_)"
   ]
  },
  {
   "cell_type": "code",
   "execution_count": 62,
   "id": "ea366f20-6bf7-4c6e-ac07-c5fb247db6fc",
   "metadata": {},
   "outputs": [
    {
     "data": {
      "text/plain": [
       "0.3625653679762366"
      ]
     },
     "execution_count": 62,
     "metadata": {},
     "output_type": "execute_result"
    }
   ],
   "source": [
    "L"
   ]
  },
  {
   "cell_type": "code",
   "execution_count": 63,
   "id": "3dc1f365-d3c1-492b-a260-0aa7453c6a54",
   "metadata": {},
   "outputs": [],
   "source": [
    "L_i = [smoothness(data[i][0], lambda_) for i in range(num_clients)]"
   ]
  },
  {
   "cell_type": "code",
   "execution_count": 64,
   "id": "b56e293e-cb14-4c64-9144-be6f1d824697",
   "metadata": {},
   "outputs": [],
   "source": [
    "L_tilde = np.sqrt((np.array(L_i) ** 2).mean())"
   ]
  },
  {
   "cell_type": "code",
   "execution_count": 65,
   "id": "fc12e226-7c08-4b12-9eb1-56e5ab81f1f7",
   "metadata": {},
   "outputs": [
    {
     "data": {
      "text/plain": [
       "0.3660995652574401"
      ]
     },
     "execution_count": 65,
     "metadata": {},
     "output_type": "execute_result"
    }
   ],
   "source": [
    "L_tilde"
   ]
  },
  {
   "cell_type": "markdown",
   "id": "a4fe42c4-6306-4b71-87bb-2f81e5f263dc",
   "metadata": {},
   "source": [
    "## Experiments"
   ]
  },
  {
   "cell_type": "code",
   "execution_count": 67,
   "id": "cf900052-ce75-4b62-9968-d0eb0f7ac1bf",
   "metadata": {},
   "outputs": [],
   "source": [
    "max_comm = 20000"
   ]
  },
  {
   "cell_type": "markdown",
   "id": "92f98f53-d728-4948-afa6-a7e62e6250cb",
   "metadata": {},
   "source": [
    "### 1. LAG tuning"
   ]
  },
  {
   "cell_type": "code",
   "execution_count": null,
   "id": "80dc8462-6b9d-4fe3-9728-999831e6ab02",
   "metadata": {},
   "outputs": [],
   "source": [
    "zetas = np.geomspace(1e-2, 1e1, 4)"
   ]
  },
  {
   "cell_type": "code",
   "execution_count": null,
   "id": "339cdb1c-a365-4b6c-9d3b-c4b0d5e67eda",
   "metadata": {},
   "outputs": [],
   "source": [
    "zetas"
   ]
  },
  {
   "cell_type": "code",
   "execution_count": null,
   "id": "3c589289-683a-4411-9128-0647b9c396c7",
   "metadata": {},
   "outputs": [],
   "source": [
    "def LAG_grid(x_0, data, lambda_, zetas, max_comm):\n",
    "    LAG_histories = []\n",
    "    for zeta in zetas:\n",
    "        print('zeta = {}'.format(zeta), end='\\r')\n",
    "        hist = LAG(x_0, data, lambda_, zeta, max_comm)\n",
    "        LAG_histories.append(hist)\n",
    "    return LAG_histories"
   ]
  },
  {
   "cell_type": "code",
   "execution_count": null,
   "id": "7185944d-cf82-4df1-af70-26ca8a428d6d",
   "metadata": {},
   "outputs": [],
   "source": [
    "x_0 = np.zeros(d)"
   ]
  },
  {
   "cell_type": "code",
   "execution_count": null,
   "id": "d08035f7-2916-47f4-9a60-09241d3827bd",
   "metadata": {},
   "outputs": [],
   "source": [
    "LAG_histories = LAG_grid(x_0, data, lambda_, zetas, max_comm)"
   ]
  },
  {
   "cell_type": "code",
   "execution_count": null,
   "id": "6ab3671d-ebba-4488-a232-827801568da8",
   "metadata": {},
   "outputs": [],
   "source": [
    "with open('../results/lag_phishing.pickle', 'wb') as file:\n",
    "    pickle.dump(LAG_histories, file)"
   ]
  },
  {
   "cell_type": "code",
   "execution_count": null,
   "id": "3a307ba1-0fc3-40fe-8e22-c3fae8854eac",
   "metadata": {},
   "outputs": [],
   "source": [
    "with open('../results/lag_phishing.pickle', 'rb') as file:\n",
    "    LAG_histories = pickle.load(file)"
   ]
  },
  {
   "cell_type": "code",
   "execution_count": null,
   "id": "1e722bf1-34bc-44ac-9b6c-0e49c92ae4d7",
   "metadata": {},
   "outputs": [],
   "source": [
    "min_ind = print_and_return(LAG_histories)"
   ]
  },
  {
   "cell_type": "code",
   "execution_count": null,
   "id": "d42bc44b-aa57-4cfd-88ae-3a581bb0b91e",
   "metadata": {},
   "outputs": [],
   "source": [
    "print(min_ind)"
   ]
  },
  {
   "cell_type": "code",
   "execution_count": null,
   "id": "4013397d-53df-499c-8eed-c15f6fa3d19e",
   "metadata": {},
   "outputs": [],
   "source": [
    "h_LAG, h_LAG_comm = LAG_histories[min_ind]"
   ]
  },
  {
   "cell_type": "code",
   "execution_count": null,
   "id": "3eed0343-962e-4b71-9aeb-cf939f800bcf",
   "metadata": {},
   "outputs": [],
   "source": [
    "new_h_LAG, new_h_LAG_comm = LAG(x_0, data, lambda_, 1., max_comm)"
   ]
  },
  {
   "cell_type": "code",
   "execution_count": null,
   "id": "63281753-72b6-4d80-817a-71136a5da489",
   "metadata": {},
   "outputs": [],
   "source": [
    "# preliminary plot\n",
    "plt.plot(h_LAG_comm, h_LAG)\n",
    "plt.plot(new_h_LAG_comm, new_h_LAG)\n",
    "plt.yscale('log')"
   ]
  },
  {
   "cell_type": "markdown",
   "id": "6671f396-083b-4460-847b-fd956a6325e3",
   "metadata": {
    "tags": []
   },
   "source": [
    "### 2. EF21 tuning"
   ]
  },
  {
   "cell_type": "code",
   "execution_count": null,
   "id": "2f3b5fe6-43fe-441a-bae5-4e13dc69a91b",
   "metadata": {},
   "outputs": [],
   "source": [
    "ks = np.linspace(1, d, 10, endpoint=False, dtype=int)"
   ]
  },
  {
   "cell_type": "code",
   "execution_count": null,
   "id": "4598aa6d-9ead-444f-b55e-9cf7c1a9bf0d",
   "metadata": {},
   "outputs": [],
   "source": [
    "ks"
   ]
  },
  {
   "cell_type": "code",
   "execution_count": null,
   "id": "74a8271d-9880-4831-8ba4-28a8f28ff3a9",
   "metadata": {},
   "outputs": [],
   "source": [
    "def EF21_grid(x_0, data, d, lambda_, ks, max_comm):\n",
    "    EF21_histories = []\n",
    "    for k in ks:\n",
    "        print('k=', k)\n",
    "        max_iter = 2 + int((max_comm - d * len(data)) / (k * num_clients))\n",
    "        hist = EF21(x_0, data, lambda_, k, max_iter)\n",
    "        EF21_histories.append(hist)\n",
    "    return EF21_histories"
   ]
  },
  {
   "cell_type": "code",
   "execution_count": null,
   "id": "91e69fda-4b7a-4edc-b797-f4fd4e1055e3",
   "metadata": {},
   "outputs": [],
   "source": [
    "EF21_histories = EF21_grid(x_0, data, d, lambda_, ks, max_comm)"
   ]
  },
  {
   "cell_type": "code",
   "execution_count": null,
   "id": "f81437bc-c905-44a0-b2a8-c2e5e97a23c0",
   "metadata": {},
   "outputs": [],
   "source": [
    "with open('../results/ef21_phishing.pickle', 'wb') as file:\n",
    "    pickle.dump(EF21_histories, file)"
   ]
  },
  {
   "cell_type": "code",
   "execution_count": null,
   "id": "40c0d20f-d0bc-4930-8b7e-90d6bffa7627",
   "metadata": {},
   "outputs": [],
   "source": [
    "min_ind = print_and_return(EF21_histories)"
   ]
  },
  {
   "cell_type": "code",
   "execution_count": null,
   "id": "c1d279c7-c597-4bbf-8154-724314621007",
   "metadata": {},
   "outputs": [],
   "source": [
    "min_ind"
   ]
  },
  {
   "cell_type": "code",
   "execution_count": null,
   "id": "87b9df0a-642b-4f45-bf7e-49e0749b5298",
   "metadata": {},
   "outputs": [],
   "source": [
    "h_EF21, h_EF21_comm = EF21_histories[min_ind]"
   ]
  },
  {
   "cell_type": "code",
   "execution_count": null,
   "id": "75f48dc3-9d40-43d5-b486-ac4d26a38451",
   "metadata": {},
   "outputs": [],
   "source": [
    "# preliminary plot\n",
    "plt.plot(h_LAG_comm, h_LAG, label='LAG')\n",
    "plt.plot(h_EF21_comm, h_EF21, label='EF21')\n",
    "plt.legend()\n",
    "plt.yscale('log')"
   ]
  },
  {
   "cell_type": "markdown",
   "id": "a805328e-3b58-4b40-8d18-587a30061551",
   "metadata": {},
   "source": [
    "### 3. CLAG tuning"
   ]
  },
  {
   "cell_type": "code",
   "execution_count": 31,
   "id": "5db028c4-a653-48c0-bc2c-cf0097407325",
   "metadata": {},
   "outputs": [],
   "source": [
    "x_0 = np.zeros(d)"
   ]
  },
  {
   "cell_type": "code",
   "execution_count": 34,
   "id": "400bfd3c-5983-4036-a1a9-0d74ad8cce2e",
   "metadata": {},
   "outputs": [],
   "source": [
    "ks = np.flip(np.linspace(1, d, 6, endpoint=True, dtype=int))\n",
    "# beta_multipliers = np.geomspace(1e-3, 10, num=5)"
   ]
  },
  {
   "cell_type": "code",
   "execution_count": 35,
   "id": "397414b3-d163-4ad5-8bb5-6b630b0c9328",
   "metadata": {},
   "outputs": [
    {
     "data": {
      "text/plain": [
       "array([68, 54, 41, 27, 14,  1])"
      ]
     },
     "execution_count": 35,
     "metadata": {},
     "output_type": "execute_result"
    }
   ],
   "source": [
    "ks"
   ]
  },
  {
   "cell_type": "code",
   "execution_count": 36,
   "id": "adaa9cca-7771-4ec9-bf02-3890704b9df6",
   "metadata": {},
   "outputs": [],
   "source": [
    "trigger_betas = [beta_top_k(k, d) for k in ks]"
   ]
  },
  {
   "cell_type": "code",
   "execution_count": null,
   "id": "112e2b4b-210c-4f94-a499-2ca9df103c05",
   "metadata": {},
   "outputs": [],
   "source": [
    "# trigger_betas = trigger_betas[:-1] + [10]"
   ]
  },
  {
   "cell_type": "code",
   "execution_count": 37,
   "id": "b573b8aa-ada9-459c-b7c7-8b6cd615a544",
   "metadata": {},
   "outputs": [
    {
     "data": {
      "text/plain": [
       "[0.0,\n",
       " 0.37689623131131883,\n",
       " 1.0734976346570813,\n",
       " 2.697637320436183,\n",
       " 7.294369327761887,\n",
       " 133.505528297411]"
      ]
     },
     "execution_count": 37,
     "metadata": {},
     "output_type": "execute_result"
    }
   ],
   "source": [
    "trigger_betas"
   ]
  },
  {
   "cell_type": "code",
   "execution_count": null,
   "id": "7d3a2851-169e-46e5-bd64-465f646ba9e0",
   "metadata": {},
   "outputs": [],
   "source": [
    "def CLAG_grid(x_0, data, lambda_, ks, beta_multipliers, max_comm):\n",
    "    CLAG_histories = []\n",
    "    for k in ks:\n",
    "        curr_list = []\n",
    "        for mult in beta_multipliers:\n",
    "            trigger_beta = mult * beta_top_k(k, d)\n",
    "            print('k = ', k, 'trigger_beta = ', trigger_beta)\n",
    "            hist = CLAG(x_0, data, lambda_, k, trigger_beta, max_comm)\n",
    "            curr_list.append(hist)\n",
    "        CLAG_histories.append(curr_list)\n",
    "    return CLAG_histories"
   ]
  },
  {
   "cell_type": "code",
   "execution_count": null,
   "id": "0344ef93-3117-462e-9c61-f60406727276",
   "metadata": {},
   "outputs": [],
   "source": [
    "CLAG_histories = CLAG_grid(x_0, data, lambda_, ks, beta_multipliers, max_comm)"
   ]
  },
  {
   "cell_type": "code",
   "execution_count": null,
   "id": "c84447e0-c5b8-4d98-ae68-7686ab8d4251",
   "metadata": {},
   "outputs": [],
   "source": [
    "with open('../results/clag_phishing.pickle', 'wb') as file:\n",
    "    pickle.dump(CLAG_histories, file)"
   ]
  },
  {
   "cell_type": "code",
   "execution_count": null,
   "id": "51b527c1-dc6e-41d3-b166-29f21a52e43c",
   "metadata": {},
   "outputs": [],
   "source": [
    "with open('../results/clag_phishing.pickle', 'rb') as file:\n",
    "    CLAG_histories = pickle.load(file)"
   ]
  },
  {
   "cell_type": "code",
   "execution_count": null,
   "id": "da644b72-b677-470b-b19b-410d674aee83",
   "metadata": {},
   "outputs": [],
   "source": [
    "len(CLAG_histories)"
   ]
  },
  {
   "cell_type": "code",
   "execution_count": null,
   "id": "a4dd2999-2025-4de2-81da-e2f01fe60100",
   "metadata": {},
   "outputs": [],
   "source": [
    "min_inds = []\n",
    "for hist_k in CLAG_histories:\n",
    "    ind = print_and_return(hist_k)\n",
    "    min_inds.append(ind)"
   ]
  },
  {
   "cell_type": "code",
   "execution_count": null,
   "id": "32852529-92d1-4104-85d2-ce20a4021d67",
   "metadata": {},
   "outputs": [],
   "source": [
    "min_inds"
   ]
  },
  {
   "cell_type": "code",
   "execution_count": null,
   "id": "a359de9a-a6f8-4f40-8207-70dca579e4fd",
   "metadata": {},
   "outputs": [],
   "source": [
    "min_list = [CLAG_histories[ind][min_inds[ind]] for ind in range(len(ks))]"
   ]
  },
  {
   "cell_type": "code",
   "execution_count": null,
   "id": "64a1377f-caf7-409e-9553-b1ea8d58f587",
   "metadata": {},
   "outputs": [],
   "source": [
    "min_ind = print_and_return(min_list)"
   ]
  },
  {
   "cell_type": "code",
   "execution_count": null,
   "id": "64cb78aa-ef30-4ce0-b66b-d33ee869ea33",
   "metadata": {},
   "outputs": [],
   "source": [
    "min_ind"
   ]
  },
  {
   "cell_type": "code",
   "execution_count": null,
   "id": "ae00c5f5-4f93-4e23-ae14-cb7ec6fa44ea",
   "metadata": {},
   "outputs": [],
   "source": [
    "h_CLAG, h_CLAG_comm = min_list[min_ind]"
   ]
  },
  {
   "cell_type": "code",
   "execution_count": null,
   "id": "46d44f16-8126-4f72-a93a-430c20ed57d0",
   "metadata": {},
   "outputs": [],
   "source": [
    "new_h_CLAG, new_h_CLAG_comm = CLAG(x_0, data, lambda_, 7, beta_top_k(7, d), max_comm)"
   ]
  },
  {
   "cell_type": "code",
   "execution_count": null,
   "id": "7476737b-d239-473f-8cb7-09e7e9d2e602",
   "metadata": {},
   "outputs": [],
   "source": [
    "# preliminary plot\n",
    "# plt.plot(h_LAG_comm, h_LAG, label='LAG')\n",
    "# plt.plot(h_EF21_comm, h_EF21, label='EF21')\n",
    "plt.plot(h_CLAG_comm, h_CLAG, label='CLAG')\n",
    "plt.plot(new_h_CLAG_comm, new_h_CLAG, label='check')\n",
    "plt.legend()\n",
    "plt.yscale('log')"
   ]
  },
  {
   "cell_type": "markdown",
   "id": "98d96667-cef8-4e31-8f59-e2215b2057a5",
   "metadata": {},
   "source": [
    "#### heatmap"
   ]
  },
  {
   "cell_type": "code",
   "execution_count": 80,
   "id": "23a7f7e0-26a6-4d70-baeb-0182e1640a01",
   "metadata": {},
   "outputs": [],
   "source": [
    "x_0 = np.zeros(d)"
   ]
  },
  {
   "cell_type": "code",
   "execution_count": 81,
   "id": "2b138747-5c24-403a-8816-5aa017216b80",
   "metadata": {},
   "outputs": [],
   "source": [
    "ks = np.flip(np.linspace(1, d, 6, endpoint=True, dtype=int))"
   ]
  },
  {
   "cell_type": "code",
   "execution_count": 82,
   "id": "df6d628c-0fd2-44e4-88bf-8cf64ebca320",
   "metadata": {},
   "outputs": [
    {
     "data": {
      "text/plain": [
       "array([68, 54, 41, 27, 14,  1])"
      ]
     },
     "execution_count": 82,
     "metadata": {},
     "output_type": "execute_result"
    }
   ],
   "source": [
    "ks"
   ]
  },
  {
   "cell_type": "code",
   "execution_count": 83,
   "id": "3fb33512-3244-4a27-b284-05600153d021",
   "metadata": {},
   "outputs": [],
   "source": [
    "trigger_betas = [beta_top_k(k, d) for k in ks]"
   ]
  },
  {
   "cell_type": "code",
   "execution_count": 84,
   "id": "3647eccb-f044-4a87-8cbc-bb0ac7643fd3",
   "metadata": {},
   "outputs": [
    {
     "data": {
      "text/plain": [
       "[0.0,\n",
       " 0.37689623131131883,\n",
       " 1.0734976346570813,\n",
       " 2.697637320436183,\n",
       " 7.294369327761887,\n",
       " 133.505528297411]"
      ]
     },
     "execution_count": 84,
     "metadata": {},
     "output_type": "execute_result"
    }
   ],
   "source": [
    "trigger_betas"
   ]
  },
  {
   "cell_type": "code",
   "execution_count": 73,
   "id": "b68d9dac-9cbb-4694-a724-da330fe6390b",
   "metadata": {},
   "outputs": [],
   "source": [
    "trigger_betas = np.linspace(0, 10, 21, endpoint=True)"
   ]
  },
  {
   "cell_type": "code",
   "execution_count": 45,
   "id": "65123fbb-cda9-4efb-8df6-5584c8a6f911",
   "metadata": {},
   "outputs": [
    {
     "name": "stdout",
     "output_type": "stream",
     "text": [
      "k =  68\n",
      "trigger_beta =  0.0\n",
      "Log: beta 0.0, theta1.0, zeta 0.0, stepsize 2.7582320538081286\n",
      "Tolerance =  0.0015684060313980676059\n",
      "trigger_beta =  0.5\n",
      "Log: beta 0.0, theta1.0, zeta 0.5, stepsize 1.6092409987661518\n",
      "Tolerance =  0.0024217993046685105856\n",
      "trigger_beta =  1.0\n",
      "Log: beta 0.0, theta1.0, zeta 1.0, stepsize 1.3724307001242084\n",
      "Tolerance =  0.0024274987365799538015\n",
      "trigger_beta =  1.5\n",
      "Log: beta 0.0, theta1.0, zeta 1.5, stepsize 1.233183153165974\n",
      "Tolerance =  0.0026745218584849509748\n",
      "trigger_beta =  2.0\n",
      "Log: beta 0.0, theta1.0, zeta 2.0, stepsize 1.1360139877974114\n",
      "Tolerance =  0.0029417035717813577839\n",
      "trigger_beta =  2.5\n",
      "Log: beta 0.0, theta1.0, zeta 2.5, stepsize 1.0622709822444922\n",
      "Tolerance =  0.0029791462879486232377\n",
      "trigger_beta =  3.0\n",
      "Log: beta 0.0, theta1.0, zeta 3.0, stepsize 1.003385708950237\n",
      "Tolerance =  0.0029804440356590656031\n",
      "trigger_beta =  3.5\n",
      "Log: beta 0.0, theta1.0, zeta 3.5, stepsize 0.9547177715507827\n",
      "Tolerance =  0.0020174694927315511301\n",
      "trigger_beta =  4.0\n",
      "Log: beta 0.0, theta1.0, zeta 4.0, stepsize 0.9134777586177524\n",
      "Tolerance =  0.0026306414559196509293\n",
      "trigger_beta =  4.5\n",
      "Log: beta 0.0, theta1.0, zeta 4.5, stepsize 0.8778623612893595\n",
      "Tolerance =  0.0011612918125970309761\n",
      "trigger_beta =  5.0\n",
      "Log: beta 0.0, theta1.0, zeta 5.0, stepsize 0.8466411812986107\n",
      "Tolerance =  0.001867880378729477584\n",
      "trigger_beta =  5.5\n",
      "Log: beta 0.0, theta1.0, zeta 5.5, stepsize 0.8189389819470376\n",
      "Tolerance =  0.0025764304673672916834\n",
      "trigger_beta =  6.0\n",
      "Log: beta 0.0, theta1.0, zeta 6.0, stepsize 0.794112115793979\n",
      "Tolerance =  0.0025520278675443408332\n",
      "trigger_beta =  6.5\n",
      "Log: beta 0.0, theta1.0, zeta 6.5, stepsize 0.7716742022355074\n",
      "Tolerance =  0.0029967127948289947093 0.014978735044678185989\n",
      "trigger_beta =  7.0\n",
      "Log: beta 0.0, theta1.0, zeta 7.0, stepsize 0.7512492789661938\n",
      "Tolerance =  0.0932398201324736783935 0.009529597489795568063 0.012045506774101357321\r"
     ]
    },
    {
     "ename": "KeyboardInterrupt",
     "evalue": "",
     "output_type": "error",
     "traceback": [
      "\u001b[0;31m---------------------------------------------------------------------------\u001b[0m",
      "\u001b[0;31mKeyboardInterrupt\u001b[0m                         Traceback (most recent call last)",
      "\u001b[0;32m/tmp/ipykernel_36707/1179321135.py\u001b[0m in \u001b[0;36m<module>\u001b[0;34m\u001b[0m\n\u001b[0;32m----> 1\u001b[0;31m heatmap = heatmap_CLAG(x_0, data, lambda_, ks, trigger_betas, 3e-3,\n\u001b[0m\u001b[1;32m      2\u001b[0m                        '../results/heatmap_phishing.npy')\n",
      "\u001b[0;32m/tmp/ipykernel_36707/3058121132.py\u001b[0m in \u001b[0;36mheatmap_CLAG\u001b[0;34m(x_0, data, lambda_, ks, trigger_betas, tol, file)\u001b[0m\n\u001b[1;32m      5\u001b[0m         \u001b[0;32mfor\u001b[0m \u001b[0mbeta_id\u001b[0m\u001b[0;34m,\u001b[0m \u001b[0mtrigger_beta\u001b[0m \u001b[0;32min\u001b[0m \u001b[0menumerate\u001b[0m\u001b[0;34m(\u001b[0m\u001b[0mtrigger_betas\u001b[0m\u001b[0;34m)\u001b[0m\u001b[0;34m:\u001b[0m\u001b[0;34m\u001b[0m\u001b[0;34m\u001b[0m\u001b[0m\n\u001b[1;32m      6\u001b[0m             \u001b[0mprint\u001b[0m\u001b[0;34m(\u001b[0m\u001b[0;34m'trigger_beta = '\u001b[0m\u001b[0;34m,\u001b[0m \u001b[0mtrigger_beta\u001b[0m\u001b[0;34m)\u001b[0m\u001b[0;34m\u001b[0m\u001b[0;34m\u001b[0m\u001b[0m\n\u001b[0;32m----> 7\u001b[0;31m             heatmap[k_id, beta_id] = CLAG_it(x_0,\n\u001b[0m\u001b[1;32m      8\u001b[0m                                              \u001b[0mdata\u001b[0m\u001b[0;34m,\u001b[0m\u001b[0;34m\u001b[0m\u001b[0;34m\u001b[0m\u001b[0m\n\u001b[1;32m      9\u001b[0m                                              \u001b[0mlambda_\u001b[0m\u001b[0;34m,\u001b[0m\u001b[0;34m\u001b[0m\u001b[0;34m\u001b[0m\u001b[0m\n",
      "\u001b[0;32m/tmp/ipykernel_36707/2235651422.py\u001b[0m in \u001b[0;36mCLAG_it\u001b[0;34m(x_0, data, lambda_, k, trigger_beta, tol)\u001b[0m\n\u001b[1;32m     11\u001b[0m     \u001b[0mprint\u001b[0m\u001b[0;34m(\u001b[0m\u001b[0;34m'Log: beta {}, theta{}, zeta {}, stepsize {}'\u001b[0m\u001b[0;34m.\u001b[0m\u001b[0mformat\u001b[0m\u001b[0;34m(\u001b[0m\u001b[0mbeta\u001b[0m\u001b[0;34m,\u001b[0m \u001b[0mtheta\u001b[0m\u001b[0;34m,\u001b[0m \u001b[0mtrigger_beta\u001b[0m\u001b[0;34m,\u001b[0m \u001b[0mstepsize\u001b[0m\u001b[0;34m)\u001b[0m\u001b[0;34m)\u001b[0m\u001b[0;34m\u001b[0m\u001b[0;34m\u001b[0m\u001b[0m\n\u001b[1;32m     12\u001b[0m     \u001b[0;32mwhile\u001b[0m \u001b[0mnp\u001b[0m\u001b[0;34m.\u001b[0m\u001b[0mlinalg\u001b[0m\u001b[0;34m.\u001b[0m\u001b[0mnorm\u001b[0m\u001b[0;34m(\u001b[0m\u001b[0mgrad_k_prev\u001b[0m\u001b[0;34m.\u001b[0m\u001b[0mmean\u001b[0m\u001b[0;34m(\u001b[0m\u001b[0maxis\u001b[0m\u001b[0;34m=\u001b[0m\u001b[0;36m0\u001b[0m\u001b[0;34m)\u001b[0m\u001b[0;34m)\u001b[0m \u001b[0;34m>\u001b[0m \u001b[0mtol\u001b[0m\u001b[0;34m:\u001b[0m\u001b[0;34m\u001b[0m\u001b[0;34m\u001b[0m\u001b[0m\n\u001b[0;32m---> 13\u001b[0;31m         x_k, g_k, grad_k_prev, comm = CLAG_step(\n\u001b[0m\u001b[1;32m     14\u001b[0m             \u001b[0mx_k\u001b[0m\u001b[0;34m,\u001b[0m \u001b[0mg_k\u001b[0m\u001b[0;34m,\u001b[0m \u001b[0mcomm\u001b[0m\u001b[0;34m,\u001b[0m \u001b[0mdata\u001b[0m\u001b[0;34m,\u001b[0m \u001b[0mlambda_\u001b[0m\u001b[0;34m,\u001b[0m \u001b[0mtrigger_beta\u001b[0m\u001b[0;34m,\u001b[0m\u001b[0;34m\u001b[0m\u001b[0;34m\u001b[0m\u001b[0m\n\u001b[1;32m     15\u001b[0m             \u001b[0mgrad_k_prev\u001b[0m\u001b[0;34m,\u001b[0m \u001b[0mk\u001b[0m\u001b[0;34m,\u001b[0m \u001b[0mstepsize\u001b[0m\u001b[0;34m\u001b[0m\u001b[0;34m\u001b[0m\u001b[0m\n",
      "\u001b[0;32m/tmp/ipykernel_36707/1419255578.py\u001b[0m in \u001b[0;36mCLAG_step\u001b[0;34m(x_k, g_k, comm, data, lambda_, trigger_beta, grad_k_prev, k, stepsize)\u001b[0m\n\u001b[1;32m      2\u001b[0m               trigger_beta, grad_k_prev, k, stepsize):\n\u001b[1;32m      3\u001b[0m     \u001b[0mx_k\u001b[0m \u001b[0;34m-=\u001b[0m \u001b[0mstepsize\u001b[0m \u001b[0;34m*\u001b[0m \u001b[0mg_k\u001b[0m\u001b[0;34m.\u001b[0m\u001b[0mmean\u001b[0m\u001b[0;34m(\u001b[0m\u001b[0maxis\u001b[0m\u001b[0;34m=\u001b[0m\u001b[0;36m0\u001b[0m\u001b[0;34m)\u001b[0m\u001b[0;34m\u001b[0m\u001b[0;34m\u001b[0m\u001b[0m\n\u001b[0;32m----> 4\u001b[0;31m     \u001b[0mgrad_k\u001b[0m \u001b[0;34m=\u001b[0m \u001b[0mnp\u001b[0m\u001b[0;34m.\u001b[0m\u001b[0marray\u001b[0m\u001b[0;34m(\u001b[0m\u001b[0mgrad_compute\u001b[0m\u001b[0;34m(\u001b[0m\u001b[0mx_k\u001b[0m\u001b[0;34m,\u001b[0m \u001b[0mdata\u001b[0m\u001b[0;34m,\u001b[0m \u001b[0mlambda_\u001b[0m\u001b[0;34m)\u001b[0m\u001b[0;34m,\u001b[0m \u001b[0mdtype\u001b[0m\u001b[0;34m=\u001b[0m\u001b[0mnp\u001b[0m\u001b[0;34m.\u001b[0m\u001b[0mlongdouble\u001b[0m\u001b[0;34m)\u001b[0m\u001b[0;34m\u001b[0m\u001b[0;34m\u001b[0m\u001b[0m\n\u001b[0m\u001b[1;32m      5\u001b[0m     trigger_rhs = trigger_beta * np.linalg.norm(\n\u001b[1;32m      6\u001b[0m         grad_k - grad_k_prev, ord=2, axis=1, )\n",
      "\u001b[0;32m/tmp/ipykernel_36707/544298587.py\u001b[0m in \u001b[0;36mgrad_compute\u001b[0;34m(w, data, lambda_)\u001b[0m\n\u001b[1;32m      1\u001b[0m \u001b[0;32mdef\u001b[0m \u001b[0mgrad_compute\u001b[0m\u001b[0;34m(\u001b[0m\u001b[0mw\u001b[0m\u001b[0;34m,\u001b[0m \u001b[0mdata\u001b[0m\u001b[0;34m,\u001b[0m \u001b[0mlambda_\u001b[0m\u001b[0;34m)\u001b[0m\u001b[0;34m:\u001b[0m\u001b[0;34m\u001b[0m\u001b[0;34m\u001b[0m\u001b[0m\n\u001b[0;32m----> 2\u001b[0;31m     return np.array([grad(w, feats, labels, lambda_)\n\u001b[0m\u001b[1;32m      3\u001b[0m                     for (feats, labels) in data], dtype=np.longdouble)\n",
      "\u001b[0;32m/tmp/ipykernel_36707/544298587.py\u001b[0m in \u001b[0;36m<listcomp>\u001b[0;34m(.0)\u001b[0m\n\u001b[1;32m      1\u001b[0m \u001b[0;32mdef\u001b[0m \u001b[0mgrad_compute\u001b[0m\u001b[0;34m(\u001b[0m\u001b[0mw\u001b[0m\u001b[0;34m,\u001b[0m \u001b[0mdata\u001b[0m\u001b[0;34m,\u001b[0m \u001b[0mlambda_\u001b[0m\u001b[0;34m)\u001b[0m\u001b[0;34m:\u001b[0m\u001b[0;34m\u001b[0m\u001b[0;34m\u001b[0m\u001b[0m\n\u001b[0;32m----> 2\u001b[0;31m     return np.array([grad(w, feats, labels, lambda_)\n\u001b[0m\u001b[1;32m      3\u001b[0m                     for (feats, labels) in data], dtype=np.longdouble)\n",
      "\u001b[0;32m/tmp/ipykernel_36707/3170870472.py\u001b[0m in \u001b[0;36mgrad\u001b[0;34m(w, X, y, lambda_)\u001b[0m\n\u001b[1;32m      1\u001b[0m \u001b[0;32mdef\u001b[0m \u001b[0mgrad\u001b[0m\u001b[0;34m(\u001b[0m\u001b[0mw\u001b[0m\u001b[0;34m,\u001b[0m \u001b[0mX\u001b[0m\u001b[0;34m,\u001b[0m \u001b[0my\u001b[0m\u001b[0;34m,\u001b[0m \u001b[0mlambda_\u001b[0m\u001b[0;34m)\u001b[0m\u001b[0;34m:\u001b[0m\u001b[0;34m\u001b[0m\u001b[0;34m\u001b[0m\u001b[0m\n\u001b[1;32m      2\u001b[0m     \u001b[0mz\u001b[0m \u001b[0;34m=\u001b[0m \u001b[0;34m-\u001b[0m \u001b[0mX\u001b[0m\u001b[0;34m.\u001b[0m\u001b[0mtoarray\u001b[0m\u001b[0;34m(\u001b[0m\u001b[0;34m)\u001b[0m \u001b[0;34m*\u001b[0m \u001b[0my\u001b[0m\u001b[0;34m[\u001b[0m\u001b[0;34m:\u001b[0m\u001b[0;34m,\u001b[0m \u001b[0;32mNone\u001b[0m\u001b[0;34m]\u001b[0m\u001b[0;34m\u001b[0m\u001b[0;34m\u001b[0m\u001b[0m\n\u001b[0;32m----> 3\u001b[0;31m     \u001b[0mcoef\u001b[0m \u001b[0;34m=\u001b[0m \u001b[0;36m1.\u001b[0m \u001b[0;34m-\u001b[0m \u001b[0;36m1.\u001b[0m \u001b[0;34m/\u001b[0m \u001b[0;34m(\u001b[0m\u001b[0;36m1\u001b[0m \u001b[0;34m+\u001b[0m \u001b[0mnp\u001b[0m\u001b[0;34m.\u001b[0m\u001b[0mexp\u001b[0m\u001b[0;34m(\u001b[0m\u001b[0mz\u001b[0m \u001b[0;34m@\u001b[0m \u001b[0mw\u001b[0m\u001b[0;34m)\u001b[0m\u001b[0;34m)\u001b[0m\u001b[0;34m\u001b[0m\u001b[0;34m\u001b[0m\u001b[0m\n\u001b[0m\u001b[1;32m      4\u001b[0m     \u001b[0mgrad_loss_1\u001b[0m \u001b[0;34m=\u001b[0m \u001b[0;34m(\u001b[0m\u001b[0mz\u001b[0m \u001b[0;34m*\u001b[0m \u001b[0mcoef\u001b[0m\u001b[0;34m[\u001b[0m\u001b[0;34m:\u001b[0m\u001b[0;34m,\u001b[0m \u001b[0;32mNone\u001b[0m\u001b[0;34m]\u001b[0m\u001b[0;34m)\u001b[0m\u001b[0;34m.\u001b[0m\u001b[0mmean\u001b[0m\u001b[0;34m(\u001b[0m\u001b[0maxis\u001b[0m\u001b[0;34m=\u001b[0m\u001b[0;36m0\u001b[0m\u001b[0;34m)\u001b[0m\u001b[0;34m\u001b[0m\u001b[0;34m\u001b[0m\u001b[0m\n\u001b[1;32m      5\u001b[0m     \u001b[0mgrad_loss_2\u001b[0m \u001b[0;34m=\u001b[0m \u001b[0;36m2\u001b[0m \u001b[0;34m*\u001b[0m \u001b[0mw\u001b[0m \u001b[0;34m*\u001b[0m \u001b[0;34m(\u001b[0m\u001b[0;36m1.\u001b[0m \u001b[0;34m/\u001b[0m \u001b[0;34m(\u001b[0m\u001b[0;36m1\u001b[0m \u001b[0;34m+\u001b[0m \u001b[0mw\u001b[0m \u001b[0;34m**\u001b[0m \u001b[0;36m2\u001b[0m\u001b[0;34m)\u001b[0m \u001b[0;34m**\u001b[0m \u001b[0;36m2\u001b[0m\u001b[0;34m)\u001b[0m\u001b[0;34m\u001b[0m\u001b[0;34m\u001b[0m\u001b[0m\n",
      "\u001b[0;31mKeyboardInterrupt\u001b[0m: "
     ]
    }
   ],
   "source": [
    "heatmap = heatmap_CLAG(x_0, data, lambda_, ks, trigger_betas, 3e-3,\n",
    "                       '../results/heatmap_phishing.npy')"
   ]
  },
  {
   "cell_type": "code",
   "execution_count": 88,
   "id": "b94cc9f0-32d2-4dd1-b506-fe6c4ad0195a",
   "metadata": {},
   "outputs": [
    {
     "name": "stdout",
     "output_type": "stream",
     "text": [
      "Log: beta 0.0, theta1.0, zeta 7.0, stepsize 0.7512167235269792\n",
      "(20,)\n",
      "[[False]\n",
      " [False]\n",
      " [False]\n",
      " [False]\n",
      " [False]\n",
      " [False]\n",
      " [False]\n",
      " [False]\n",
      " [False]\n",
      " [False]\n",
      " [False]\n",
      " [False]\n",
      " [False]\n",
      " [False]\n",
      " [False]\n",
      " [False]\n",
      " [False]\n",
      " [False]\n",
      " [False]\n",
      " [False]]\n",
      "[[ 0.  0.  0. ...  0. -0.  0.]\n",
      " [ 0.  0.  0. ...  0. -0.  0.]\n",
      " [ 0.  0.  0. ...  0. -0.  0.]\n",
      " ...\n",
      " [ 0.  0.  0. ...  0. -0.  0.]\n",
      " [ 0.  0.  0. ...  0. -0.  0.]\n",
      " [ 0.  0.  0. ...  0. -0.  0.]]\n",
      "(20,)ance =  0.07100266439073868533\n",
      "[[False]\n",
      " [False]\n",
      " [False]\n",
      " [False]\n",
      " [False]\n",
      " [False]\n",
      " [False]\n",
      " [False]\n",
      " [False]\n",
      " [False]\n",
      " [False]\n",
      " [False]\n",
      " [False]\n",
      " [False]\n",
      " [False]\n",
      " [False]\n",
      " [False]\n",
      " [False]\n",
      " [False]\n",
      " [False]]\n",
      "[[ 0.  0.  0. ...  0. -0.  0.]\n",
      " [ 0.  0.  0. ...  0. -0.  0.]\n",
      " [ 0.  0.  0. ...  0. -0.  0.]\n",
      " ...\n",
      " [ 0.  0.  0. ...  0. -0.  0.]\n",
      " [ 0.  0.  0. ...  0. -0.  0.]\n",
      " [ 0.  0.  0. ...  0. -0.  0.]]\n",
      "(20,)ance =  0.054882819133546197085\n",
      "[[False]\n",
      " [False]\n",
      " [False]\n",
      " [False]\n",
      " [False]\n",
      " [False]\n",
      " [False]\n",
      " [False]\n",
      " [False]\n",
      " [False]\n",
      " [False]\n",
      " [False]\n",
      " [False]\n",
      " [False]\n",
      " [False]\n",
      " [False]\n",
      " [False]\n",
      " [False]\n",
      " [False]\n",
      " [False]]\n",
      "[[ 0.  0.  0. ...  0. -0.  0.]\n",
      " [ 0.  0.  0. ...  0. -0.  0.]\n",
      " [ 0.  0.  0. ...  0. -0.  0.]\n",
      " ...\n",
      " [ 0.  0.  0. ...  0. -0.  0.]\n",
      " [ 0.  0.  0. ...  0. -0.  0.]\n",
      " [ 0.  0.  0. ...  0. -0.  0.]]\n",
      "(20,)ance =  0.039997359239248995556\n",
      "[[False]\n",
      " [False]\n",
      " [False]\n",
      " [False]\n",
      " [False]\n",
      " [False]\n",
      " [False]\n",
      " [False]\n",
      " [False]\n",
      " [False]\n",
      " [False]\n",
      " [False]\n",
      " [False]\n",
      " [False]\n",
      " [False]\n",
      " [False]\n",
      " [False]\n",
      " [False]\n",
      " [False]\n",
      " [False]]\n",
      "[[ 0.  0.  0. ...  0. -0.  0.]\n",
      " [ 0.  0.  0. ...  0. -0.  0.]\n",
      " [ 0.  0.  0. ...  0. -0.  0.]\n",
      " ...\n",
      " [ 0.  0.  0. ...  0. -0.  0.]\n",
      " [ 0.  0.  0. ...  0. -0.  0.]\n",
      " [ 0.  0.  0. ...  0. -0.  0.]]\n",
      "(20,)ance =  0.028233426192358168898\n",
      "[[False]\n",
      " [False]\n",
      " [False]\n",
      " [False]\n",
      " [False]\n",
      " [False]\n",
      " [False]\n",
      " [False]\n",
      " [False]\n",
      " [False]\n",
      " [False]\n",
      " [False]\n",
      " [False]\n",
      " [False]\n",
      " [False]\n",
      " [False]\n",
      " [False]\n",
      " [False]\n",
      " [False]\n",
      " [False]]\n",
      "[[ 0.  0.  0. ...  0. -0.  0.]\n",
      " [ 0.  0.  0. ...  0. -0.  0.]\n",
      " [ 0.  0.  0. ...  0. -0.  0.]\n",
      " ...\n",
      " [ 0.  0.  0. ...  0. -0.  0.]\n",
      " [ 0.  0.  0. ...  0. -0.  0.]\n",
      " [ 0.  0.  0. ...  0. -0.  0.]]\n",
      "(20,)ance =  0.02430678546855695318\n",
      "[[False]\n",
      " [False]\n",
      " [False]\n",
      " [False]\n",
      " [False]\n",
      " [False]\n",
      " [False]\n",
      " [False]\n",
      " [False]\n",
      " [False]\n",
      " [False]\n",
      " [False]\n",
      " [False]\n",
      " [False]\n",
      " [False]\n",
      " [False]\n",
      " [False]\n",
      " [False]\n",
      " [False]\n",
      " [False]]\n",
      "[[ 0.  0.  0. ...  0. -0.  0.]\n",
      " [ 0.  0.  0. ...  0. -0.  0.]\n",
      " [ 0.  0.  0. ...  0. -0.  0.]\n",
      " ...\n",
      " [ 0.  0.  0. ...  0. -0.  0.]\n",
      " [ 0.  0.  0. ...  0. -0.  0.]\n",
      " [ 0.  0.  0. ...  0. -0.  0.]]\n",
      "(20,)ance =  0.031019750622016873837\n",
      "[[ True]\n",
      " [ True]\n",
      " [ True]\n",
      " [ True]\n",
      " [ True]\n",
      " [ True]\n",
      " [ True]\n",
      " [ True]\n",
      " [ True]\n",
      " [ True]\n",
      " [ True]\n",
      " [ True]\n",
      " [ True]\n",
      " [ True]\n",
      " [ True]\n",
      " [ True]\n",
      " [ True]\n",
      " [ True]\n",
      " [ True]\n",
      " [ True]]\n",
      "[[ 0.00051429  0.00606761  0.01573722 ...  0.00374368 -0.00220248\n",
      "   0.00204315]\n",
      " [ 0.00038433  0.00579707  0.01554434 ...  0.00333454 -0.00143012\n",
      "   0.00204315]\n",
      " [ 0.00053248  0.00593714  0.01545698 ...  0.00371773 -0.00107937\n",
      "   0.00204315]\n",
      " ...\n",
      " [ 0.00420176  0.00586617  0.01593835 ...  0.0036287  -0.00126329\n",
      "   0.00325649]\n",
      " [ 0.00426289  0.00584174  0.01568404 ...  0.0035709  -0.00150463\n",
      "   0.00330781]\n",
      " [ 0.00413203  0.00638357  0.01564604 ...  0.00338028 -0.00149607\n",
      "   0.00342167]]\n",
      "(20,)ance =  0.043454129210525285294\n",
      "[[False]\n",
      " [False]\n",
      " [False]\n",
      " [False]\n",
      " [False]\n",
      " [False]\n",
      " [False]\n",
      " [False]\n",
      " [False]\n",
      " [False]\n",
      " [False]\n",
      " [False]\n",
      " [False]\n",
      " [False]\n",
      " [False]\n",
      " [False]\n",
      " [False]\n",
      " [False]\n",
      " [False]\n",
      " [False]]\n",
      "[[-0. -0. -0. ... -0. -0. -0.]\n",
      " [-0. -0. -0. ... -0. -0. -0.]\n",
      " [-0. -0. -0. ... -0. -0. -0.]\n",
      " ...\n",
      " [-0. -0. -0. ... -0. -0. -0.]\n",
      " [-0. -0. -0. ... -0. -0. -0.]\n",
      " [-0. -0. -0. ... -0. -0. -0.]]\n",
      "(20,)ance =  0.031873600771972889102\n",
      "[[False]\n",
      " [False]\n",
      " [False]\n",
      " [False]\n",
      " [False]\n",
      " [False]\n",
      " [False]\n",
      " [False]\n",
      " [False]\n",
      " [False]\n",
      " [False]\n",
      " [False]\n",
      " [False]\n",
      " [False]\n",
      " [False]\n",
      " [False]\n",
      " [False]\n",
      " [False]\n",
      " [False]\n",
      " [False]]\n",
      "[[-0. -0. -0. ... -0. -0. -0.]\n",
      " [-0. -0. -0. ... -0. -0. -0.]\n",
      " [-0. -0. -0. ... -0. -0. -0.]\n",
      " ...\n",
      " [-0. -0. -0. ... -0. -0. -0.]\n",
      " [-0. -0. -0. ... -0. -0. -0.]\n",
      " [-0. -0. -0. ... -0. -0. -0.]]\n",
      "(20,)ance =  0.020286195299186134287\n",
      "[[False]\n",
      " [False]\n",
      " [False]\n",
      " [False]\n",
      " [False]\n",
      " [False]\n",
      " [False]\n",
      " [False]\n",
      " [False]\n",
      " [False]\n",
      " [False]\n",
      " [False]\n",
      " [False]\n",
      " [False]\n",
      " [False]\n",
      " [False]\n",
      " [False]\n",
      " [False]\n",
      " [False]\n",
      " [False]]\n",
      "[[-0. -0. -0. ... -0. -0. -0.]\n",
      " [-0. -0. -0. ... -0. -0. -0.]\n",
      " [-0. -0. -0. ... -0. -0. -0.]\n",
      " ...\n",
      " [-0. -0. -0. ... -0. -0. -0.]\n",
      " [-0. -0. -0. ... -0. -0. -0.]\n",
      " [-0. -0. -0. ... -0. -0. -0.]]\n",
      "Tolerance =  0.008796549120797191477\n"
     ]
    }
   ],
   "source": [
    "h_check_comm = CLAG_it(x_0, data, lambda_, 68, 7., 0.01)"
   ]
  },
  {
   "cell_type": "code",
   "execution_count": 75,
   "id": "42dba514-73bb-4c07-8d8d-281450527699",
   "metadata": {},
   "outputs": [
    {
     "data": {
      "text/plain": [
       "[<matplotlib.lines.Line2D at 0x151d0273e550>]"
      ]
     },
     "execution_count": 75,
     "metadata": {},
     "output_type": "execute_result"
    },
    {
     "data": {
      "image/png": "[encoded data removed]",
      "text/plain": [
       "<Figure size 432x288 with 1 Axes>"
      ]
     },
     "metadata": {
      "needs_background": "light"
     },
     "output_type": "display_data"
    }
   ],
   "source": [
    "plt.plot(h_check_comm, h_check)"
   ]
  },
  {
   "cell_type": "code",
   "execution_count": null,
   "id": "d9b4e75f-c346-4b68-8b09-693f5699603a",
   "metadata": {},
   "outputs": [],
   "source": [
    "df = pd.DataFrame(heatmap, index=ks, columns=trigger_betas)"
   ]
  },
  {
   "cell_type": "code",
   "execution_count": null,
   "id": "ef4c093e-4bbc-4ac5-986b-f8e6c20493c0",
   "metadata": {},
   "outputs": [],
   "source": [
    "df"
   ]
  },
  {
   "cell_type": "markdown",
   "id": "d794c5d3-af6a-447a-be1e-c268833dccdd",
   "metadata": {},
   "source": [
    "### GD"
   ]
  },
  {
   "cell_type": "code",
   "execution_count": null,
   "id": "b2ba607a-1bf7-445f-9f77-d0d866e5e0b4",
   "metadata": {},
   "outputs": [],
   "source": [
    "max_iter = int(max_comm / (num_clients * len(x_0)) + 1)\n",
    "h_GD, h_GD_comm = GD(x_0, X, y, lambda_, num_clients, max_iter)"
   ]
  },
  {
   "cell_type": "markdown",
   "id": "16a4d05f-939f-42d3-90a0-45224cf27ba2",
   "metadata": {},
   "source": [
    "## Plot"
   ]
  },
  {
   "cell_type": "code",
   "execution_count": null,
   "id": "cca591b9-0bb9-452f-806d-c3c22ec3afeb",
   "metadata": {},
   "outputs": [],
   "source": [
    "len(h_CLAG_comm)"
   ]
  },
  {
   "cell_type": "code",
   "execution_count": null,
   "id": "b99c08fc-92bd-4b4f-aba4-4ae29fb85b41",
   "metadata": {},
   "outputs": [],
   "source": [
    "plt.plot(h_EF21_comm, h_EF21, label='EF21', marker='+')\n",
    "plt.plot(h_CLAG_comm, h_CLAG, label='CLAG', marker='D',\n",
    "         markevery=30)\n",
    "plt.plot(h_GD_comm, h_GD, label='GD', marker='*')\n",
    "plt.plot(h_LAG_comm, h_LAG, label='LAG', marker='s',\n",
    "         markevery=3)\n",
    "plt.legend()\n",
    "plt.xlabel('# of floats')\n",
    "plt.ylabel(r'$||\\nabla f(x^k)||^2$')\n",
    "plt.title('phishing')\n",
    "plt.xlim(left=0)\n",
    "plt.grid()\n",
    "plt.yscale('log')\n",
    "plt.tight_layout()\n",
    "plt.savefig('../results/phishing.pdf')"
   ]
  },
  {
   "cell_type": "markdown",
   "id": "4b59a81c-5e51-42de-bc5c-f4532341c51f",
   "metadata": {},
   "source": [
    "# a9a dataset"
   ]
  },
  {
   "cell_type": "markdown",
   "id": "4f5c75da-d56a-4deb-aaa9-0b7e97e842fa",
   "metadata": {
    "tags": []
   },
   "source": [
    "## Setup"
   ]
  },
  {
   "cell_type": "code",
   "execution_count": null,
   "id": "260cd56e-01c5-4501-a96c-a6ed82b5c24b",
   "metadata": {},
   "outputs": [],
   "source": [
    "num_clients = 20"
   ]
  },
  {
   "cell_type": "code",
   "execution_count": null,
   "id": "ffec749a-3b2b-4652-ac70-b8aea0116f3d",
   "metadata": {},
   "outputs": [],
   "source": [
    "lambda_ = 0.1"
   ]
  },
  {
   "cell_type": "code",
   "execution_count": null,
   "id": "f399df73-3165-4ba6-8e32-def159fc0929",
   "metadata": {},
   "outputs": [],
   "source": [
    "dataset_name = 'a9a'"
   ]
  },
  {
   "cell_type": "code",
   "execution_count": null,
   "id": "d461d360-277e-423b-92e5-6305c89bd366",
   "metadata": {},
   "outputs": [],
   "source": [
    "raw_data = load_svmlight_file('../data/' + dataset_name)"
   ]
  },
  {
   "cell_type": "code",
   "execution_count": null,
   "id": "fad6b1a5-eba8-456a-acfd-89b66ea6989e",
   "metadata": {},
   "outputs": [],
   "source": [
    "X, y = raw_data"
   ]
  },
  {
   "cell_type": "code",
   "execution_count": null,
   "id": "2952c203-1b1a-4f49-98bb-5d0f12e366f6",
   "metadata": {},
   "outputs": [],
   "source": [
    "n = X.shape[0]"
   ]
  },
  {
   "cell_type": "code",
   "execution_count": null,
   "id": "6be13b87-45c0-41c3-ad7e-87e8a2af95e0",
   "metadata": {},
   "outputs": [],
   "source": [
    "d = X.shape[1]"
   ]
  },
  {
   "cell_type": "code",
   "execution_count": null,
   "id": "c98fed3e-5026-4cc7-9733-8cd271b6a337",
   "metadata": {},
   "outputs": [],
   "source": [
    "y"
   ]
  },
  {
   "cell_type": "code",
   "execution_count": null,
   "id": "7bf97c46-28b1-4932-a7b8-ccaafdf21d15",
   "metadata": {},
   "outputs": [],
   "source": [
    "inds = np.array_split(np.arange(n), num_clients)"
   ]
  },
  {
   "cell_type": "code",
   "execution_count": null,
   "id": "84221e1c-d441-42e8-a84a-4b253f00f634",
   "metadata": {},
   "outputs": [],
   "source": [
    "data = []\n",
    "for i in range(num_clients):\n",
    "    data.append((X[inds[i]][:], y[inds[i]]))"
   ]
  },
  {
   "cell_type": "code",
   "execution_count": null,
   "id": "129f57be-f0a1-4d30-b973-6a150769f4ed",
   "metadata": {},
   "outputs": [],
   "source": [
    "L = smoothness(X, lambda_)"
   ]
  },
  {
   "cell_type": "code",
   "execution_count": null,
   "id": "84910b05-4497-4117-9566-94108a0afa1c",
   "metadata": {},
   "outputs": [],
   "source": [
    "L"
   ]
  },
  {
   "cell_type": "code",
   "execution_count": null,
   "id": "7847dab4-878e-490e-ab8d-19c7444d45e7",
   "metadata": {},
   "outputs": [],
   "source": [
    "L_i = [smoothness(data[i][0], lambda_) for i in range(num_clients)]"
   ]
  },
  {
   "cell_type": "code",
   "execution_count": null,
   "id": "a6c15c20-5b19-4cdd-bef3-1f8bcc21f08b",
   "metadata": {},
   "outputs": [],
   "source": [
    "L_tilde = np.sqrt((np.array(L_i) ** 2).mean())"
   ]
  },
  {
   "cell_type": "code",
   "execution_count": null,
   "id": "513b168d-d153-410c-9e4f-75610971f641",
   "metadata": {},
   "outputs": [],
   "source": [
    "L_tilde"
   ]
  },
  {
   "cell_type": "markdown",
   "id": "65b4a9c5-2b32-42af-9c8a-0dc056c5c176",
   "metadata": {},
   "source": [
    "## Experiments"
   ]
  },
  {
   "cell_type": "code",
   "execution_count": null,
   "id": "19aa7ec6-2918-4b23-9544-a6d4586fb0df",
   "metadata": {},
   "outputs": [],
   "source": [
    "max_comm = 20000"
   ]
  },
  {
   "cell_type": "markdown",
   "id": "4efd98ca-6d0d-4cf3-8666-ea25302d4992",
   "metadata": {},
   "source": [
    "### 1. LAG tuning"
   ]
  },
  {
   "cell_type": "code",
   "execution_count": null,
   "id": "37ffb3b7-0924-4fb0-8211-bedd57987360",
   "metadata": {},
   "outputs": [],
   "source": [
    "zetas = np.geomspace(1e-2, 1e1, 4)"
   ]
  },
  {
   "cell_type": "code",
   "execution_count": null,
   "id": "5e2a1809-45c6-4128-ac36-5881de42f625",
   "metadata": {},
   "outputs": [],
   "source": [
    "x_0 = np.zeros(d, dtype=np.longdouble)"
   ]
  },
  {
   "cell_type": "code",
   "execution_count": null,
   "id": "0d3dae89-44d2-4b69-873e-2ddc3e2bcef8",
   "metadata": {},
   "outputs": [],
   "source": [
    "\n",
    "LAG_histories = LAG_grid(x_0, data, lambda_, zetas, max_comm)"
   ]
  },
  {
   "cell_type": "code",
   "execution_count": null,
   "id": "67243856-13eb-40ca-bdc6-b6cb949e2974",
   "metadata": {},
   "outputs": [],
   "source": [
    "with open('../results/lag_{}.pickle'.format(dataset_name), 'wb') as file:\n",
    "    pickle.dump(LAG_histories, file)"
   ]
  },
  {
   "cell_type": "code",
   "execution_count": null,
   "id": "35da8091-ac7a-4558-a28d-a931b5aa196e",
   "metadata": {},
   "outputs": [],
   "source": [
    "min_ind = print_and_return(LAG_histories)"
   ]
  },
  {
   "cell_type": "code",
   "execution_count": null,
   "id": "e6fa61e9-50f6-400c-b503-cc5ae54ebfa9",
   "metadata": {},
   "outputs": [],
   "source": [
    "print(min_ind)"
   ]
  },
  {
   "cell_type": "code",
   "execution_count": null,
   "id": "677d6413-62ab-481d-b205-469235494c7d",
   "metadata": {},
   "outputs": [],
   "source": [
    "h_LAG, h_LAG_comm = LAG_histories[min_ind]"
   ]
  },
  {
   "cell_type": "code",
   "execution_count": null,
   "id": "9c2704aa-3c00-4011-a5b3-e363755a4e0a",
   "metadata": {},
   "outputs": [],
   "source": [
    "# preliminary plot\n",
    "plt.plot(h_LAG_comm, h_LAG)\n",
    "plt.yscale('log')"
   ]
  },
  {
   "cell_type": "markdown",
   "id": "6e8c2949-6a07-4486-b2b9-fd3e99948c5a",
   "metadata": {
    "tags": []
   },
   "source": [
    "### 2. EF21 tuning"
   ]
  },
  {
   "cell_type": "code",
   "execution_count": null,
   "id": "eac98b02-578b-4407-afcf-4ec3bdb39b2a",
   "metadata": {},
   "outputs": [],
   "source": [
    "ks = np.linspace(1, d, 10, endpoint=False, dtype=int)"
   ]
  },
  {
   "cell_type": "code",
   "execution_count": null,
   "id": "6d0b1273-4db3-47f1-aa0c-c0f9e63405d7",
   "metadata": {},
   "outputs": [],
   "source": [
    "ks"
   ]
  },
  {
   "cell_type": "code",
   "execution_count": null,
   "id": "fcd07293-8a80-4fe2-a2fb-3d6026e1685e",
   "metadata": {},
   "outputs": [],
   "source": [
    "EF21_histories = EF21_grid(x_0, data, d, lambda_, ks, max_comm)"
   ]
  },
  {
   "cell_type": "code",
   "execution_count": null,
   "id": "88403547-95ad-4d44-8615-6b0cdca9b550",
   "metadata": {},
   "outputs": [],
   "source": [
    "with open('../results/ef21_{}.pickle'.format(dataset_name), 'wb') as file:\n",
    "    pickle.dump(EF21_histories, file)"
   ]
  },
  {
   "cell_type": "code",
   "execution_count": null,
   "id": "7469e9f2-d883-40ae-b66a-aed2ed320fcb",
   "metadata": {},
   "outputs": [],
   "source": [
    "min_ind = print_and_return(EF21_histories)"
   ]
  },
  {
   "cell_type": "code",
   "execution_count": null,
   "id": "2cde7a4d-c113-4472-94e2-4f3e2952eaed",
   "metadata": {},
   "outputs": [],
   "source": [
    "min_ind"
   ]
  },
  {
   "cell_type": "code",
   "execution_count": null,
   "id": "755a0ecf-8d82-482c-a603-36eacc250f84",
   "metadata": {},
   "outputs": [],
   "source": [
    "h_EF21, h_EF21_comm = EF21_histories[min_ind]"
   ]
  },
  {
   "cell_type": "code",
   "execution_count": null,
   "id": "392a1b6c-b815-44a0-842f-fd260df0e9a7",
   "metadata": {},
   "outputs": [],
   "source": [
    "# preliminary plot\n",
    "plt.plot(h_LAG_comm, h_LAG, label='LAG')\n",
    "plt.plot(h_EF21_comm, h_EF21, label='EF21')\n",
    "plt.legend()\n",
    "plt.yscale('log')"
   ]
  },
  {
   "cell_type": "markdown",
   "id": "75721ee6-1a10-49f0-8604-f74befa66b7d",
   "metadata": {},
   "source": [
    "### 3. CLAG tuning"
   ]
  },
  {
   "cell_type": "code",
   "execution_count": null,
   "id": "1b264be2-32ea-4bcb-9caf-1eeb20a1eb94",
   "metadata": {},
   "outputs": [],
   "source": [
    "ks = np.linspace(1, d, 6, endpoint=True, dtype=int)"
   ]
  },
  {
   "cell_type": "code",
   "execution_count": null,
   "id": "6a8644d3-c07a-460b-9f3e-68b43f54a2ff",
   "metadata": {},
   "outputs": [],
   "source": [
    "ks = np.flip(ks)"
   ]
  },
  {
   "cell_type": "code",
   "execution_count": null,
   "id": "102ad469-b0dc-40ff-9b6e-88bb4ffb8415",
   "metadata": {},
   "outputs": [],
   "source": [
    "ks"
   ]
  },
  {
   "cell_type": "code",
   "execution_count": null,
   "id": "bf9a09f7-5c40-408a-841b-81af5e5df5c1",
   "metadata": {},
   "outputs": [],
   "source": [
    "trigger_betas = [beta_top_k(k, d) for k in ks]"
   ]
  },
  {
   "cell_type": "code",
   "execution_count": null,
   "id": "87e5d0ce-1a5c-40e4-9c3a-e441e946bf0b",
   "metadata": {},
   "outputs": [],
   "source": [
    "trigger_betas = trigger_betas[:-1] + [10]"
   ]
  },
  {
   "cell_type": "code",
   "execution_count": null,
   "id": "5f673a81-530d-4252-b2a4-63042b626efa",
   "metadata": {},
   "outputs": [],
   "source": [
    "beta_multipliers = np.geomspace(1e-1, 10, num=3)"
   ]
  },
  {
   "cell_type": "code",
   "execution_count": null,
   "id": "04c0f9fb-7660-43f2-a8e0-313676bb511f",
   "metadata": {},
   "outputs": [],
   "source": [
    "beta_multipliers"
   ]
  },
  {
   "cell_type": "code",
   "execution_count": null,
   "id": "bdc08150-b64f-4068-a046-356e5adeb5f2",
   "metadata": {},
   "outputs": [],
   "source": [
    "ks"
   ]
  },
  {
   "cell_type": "code",
   "execution_count": null,
   "id": "58fd558d-6526-4584-8b38-321f9f74c5fd",
   "metadata": {},
   "outputs": [],
   "source": [
    "CLAG_histories = CLAG_grid(x_0, data, lambda_, ks, beta_multipliers, max_comm)"
   ]
  },
  {
   "cell_type": "code",
   "execution_count": null,
   "id": "76c56224-95b1-46a6-8fa7-e41de6fd412c",
   "metadata": {},
   "outputs": [],
   "source": [
    "with open('../results/clag_{}.pickle'.format(dataset_name), 'wb') as file:\n",
    "    pickle.dump(CLAG_histories, file)"
   ]
  },
  {
   "cell_type": "code",
   "execution_count": null,
   "id": "93f9d507-82a8-4855-844d-7e10dfc0e5f9",
   "metadata": {},
   "outputs": [],
   "source": [
    "len(CLAG_histories)"
   ]
  },
  {
   "cell_type": "code",
   "execution_count": null,
   "id": "18265185-8999-4ae4-b771-4abd86218fc7",
   "metadata": {},
   "outputs": [],
   "source": [
    "min_inds = []\n",
    "for hist_k in CLAG_histories:\n",
    "    ind = print_and_return(hist_k)\n",
    "    min_inds.append(ind)"
   ]
  },
  {
   "cell_type": "code",
   "execution_count": null,
   "id": "e1896db4-5c85-42c3-879b-83d08da6bdde",
   "metadata": {},
   "outputs": [],
   "source": [
    "min_inds"
   ]
  },
  {
   "cell_type": "code",
   "execution_count": null,
   "id": "770d67d5-c96a-4374-bf00-f08aa4e5d288",
   "metadata": {},
   "outputs": [],
   "source": [
    "min_list = [CLAG_histories[ind][min_inds[ind]] for ind in range(len(ks))]"
   ]
  },
  {
   "cell_type": "code",
   "execution_count": null,
   "id": "33e78de5-cc46-408c-a0dd-a7ae4e6efc4d",
   "metadata": {},
   "outputs": [],
   "source": [
    "min_ind = print_and_return(min_list)"
   ]
  },
  {
   "cell_type": "code",
   "execution_count": null,
   "id": "ec3094f8-d303-4174-afc4-4f1d5f43a270",
   "metadata": {},
   "outputs": [],
   "source": [
    "min_ind"
   ]
  },
  {
   "cell_type": "code",
   "execution_count": null,
   "id": "a933f246-d1d2-4be6-b4ad-6f200ade7182",
   "metadata": {},
   "outputs": [],
   "source": [
    "h_CLAG, h_CLAG_comm = min_list[min_ind]"
   ]
  },
  {
   "cell_type": "code",
   "execution_count": null,
   "id": "4f5c3656-d600-4dcc-8431-4b7a53373171",
   "metadata": {},
   "outputs": [],
   "source": [
    "# preliminary plot\n",
    "plt.plot(h_LAG_comm, h_LAG, label='LAG')\n",
    "plt.plot(h_EF21_comm, h_EF21, label='EF21')\n",
    "plt.plot(h_CLAG_comm, h_CLAG, label='CLAG')\n",
    "plt.legend()\n",
    "plt.yscale('log')"
   ]
  },
  {
   "cell_type": "code",
   "execution_count": null,
   "id": "c445ae01-3377-40bf-9f1a-cb6fb69cebe7",
   "metadata": {},
   "outputs": [],
   "source": [
    "heatmap = heatmap_CLAG(x_0, data, lambda_, ks, trigger_betas, 1e-2, '../results/heatmap_a9a.npy')"
   ]
  },
  {
   "cell_type": "code",
   "execution_count": null,
   "id": "81d908ab-f753-4e1d-bdb2-bab7c91951d6",
   "metadata": {},
   "outputs": [],
   "source": [
    "df = pd.DataFrame(heatmap, index=ks, columns=trigger_betas)"
   ]
  },
  {
   "cell_type": "code",
   "execution_count": null,
   "id": "31a8c2f4-5924-4502-9d50-19cc7dd6c004",
   "metadata": {},
   "outputs": [],
   "source": [
    "df"
   ]
  },
  {
   "cell_type": "markdown",
   "id": "87d67a92-45e2-476a-b27f-4e850eb44514",
   "metadata": {},
   "source": [
    "### GD"
   ]
  },
  {
   "cell_type": "code",
   "execution_count": null,
   "id": "e9976dbb-2492-455c-88ab-ce2b651645ac",
   "metadata": {},
   "outputs": [],
   "source": [
    "max_iter = int(max_comm / (num_clients * len(x_0)) + 1)\n",
    "h_GD, h_GD_comm = GD(x_0, X, y, lambda_, num_clients, max_iter)"
   ]
  },
  {
   "cell_type": "markdown",
   "id": "07bddece-5856-4c35-bf7a-5412287ad912",
   "metadata": {},
   "source": [
    "## Plot"
   ]
  },
  {
   "cell_type": "code",
   "execution_count": null,
   "id": "017c5a67-3d3f-4744-bad9-b4def6d463a2",
   "metadata": {},
   "outputs": [],
   "source": [
    "len(h_CLAG_comm)"
   ]
  },
  {
   "cell_type": "code",
   "execution_count": null,
   "id": "2599f741-2654-4121-9a84-21bcda17c755",
   "metadata": {},
   "outputs": [],
   "source": [
    "plt.plot(h_EF21_comm, h_EF21, label='EF21', marker='+')\n",
    "plt.plot(h_CLAG_comm, h_CLAG, label='CLAG', marker='D',\n",
    "         markevery=1500)\n",
    "plt.plot(h_GD_comm, h_GD, label='GD', marker='*')\n",
    "plt.plot(h_LAG_comm, h_LAG, label='LAG', marker='s',\n",
    "         markevery=3)\n",
    "plt.legend()\n",
    "plt.xlabel('# of floats')\n",
    "plt.ylabel(r'$||\\nabla f(x^k)||^2$')\n",
    "plt.title(dataset_name)\n",
    "plt.xlim(left=0)\n",
    "plt.grid()\n",
    "plt.yscale('log')\n",
    "plt.tight_layout()\n",
    "plt.savefig('../results/{}.pdf'.format(dataset_name))"
   ]
  },
  {
   "cell_type": "markdown",
   "id": "c6124237-e5aa-4b0b-bdb3-494e2f6b5ac7",
   "metadata": {},
   "source": [
    "# w6a dataset"
   ]
  },
  {
   "cell_type": "markdown",
   "id": "124450a8-21be-409f-82e9-ddba0e8f0ef8",
   "metadata": {
    "tags": []
   },
   "source": [
    "## Setup"
   ]
  },
  {
   "cell_type": "code",
   "execution_count": null,
   "id": "9178cc48-a4a5-4c1e-95d5-bfc856a6f6c2",
   "metadata": {},
   "outputs": [],
   "source": [
    "num_clients = 20"
   ]
  },
  {
   "cell_type": "code",
   "execution_count": null,
   "id": "41030a89-6045-4c64-8df0-d9cf31b9bc2f",
   "metadata": {},
   "outputs": [],
   "source": [
    "lambda_ = 0.1"
   ]
  },
  {
   "cell_type": "code",
   "execution_count": null,
   "id": "ff41d963-9ae7-424e-9978-e287ae384b6d",
   "metadata": {},
   "outputs": [],
   "source": [
    "dataset_name = 'w6a'"
   ]
  },
  {
   "cell_type": "code",
   "execution_count": null,
   "id": "c9003ea7-3334-482d-b2d5-1ec1edf6bb25",
   "metadata": {},
   "outputs": [],
   "source": [
    "raw_data = load_svmlight_file('../data/' + dataset_name)"
   ]
  },
  {
   "cell_type": "code",
   "execution_count": null,
   "id": "35199e37-e26a-40f4-bb63-16ead2677d33",
   "metadata": {},
   "outputs": [],
   "source": [
    "X, y = raw_data"
   ]
  },
  {
   "cell_type": "code",
   "execution_count": null,
   "id": "8b96a94b-15a3-48c4-b534-11ad03dff9f7",
   "metadata": {},
   "outputs": [],
   "source": [
    "n = X.shape[0]"
   ]
  },
  {
   "cell_type": "code",
   "execution_count": null,
   "id": "f3b92ba0-3e21-41f8-bdb3-02914c6a9bc9",
   "metadata": {},
   "outputs": [],
   "source": [
    "d = X.shape[1]"
   ]
  },
  {
   "cell_type": "code",
   "execution_count": null,
   "id": "284283a7-cde2-4cf0-b8d0-fc5f3e31deba",
   "metadata": {},
   "outputs": [],
   "source": [
    "y"
   ]
  },
  {
   "cell_type": "code",
   "execution_count": null,
   "id": "8506c929-ac9f-43ba-a6cc-1afb3184b762",
   "metadata": {},
   "outputs": [],
   "source": [
    "inds = np.array_split(np.arange(n), num_clients)"
   ]
  },
  {
   "cell_type": "code",
   "execution_count": null,
   "id": "8e8d704e-3799-4512-a698-e0bda144ce1b",
   "metadata": {},
   "outputs": [],
   "source": [
    "data = []\n",
    "for i in range(num_clients):\n",
    "    data.append((X[inds[i]][:], y[inds[i]]))"
   ]
  },
  {
   "cell_type": "code",
   "execution_count": null,
   "id": "7e29a120-78cb-4444-aaf9-6faef240def1",
   "metadata": {},
   "outputs": [],
   "source": [
    "L = smoothness(X, lambda_)"
   ]
  },
  {
   "cell_type": "code",
   "execution_count": null,
   "id": "e66a5c7a-b3c7-4c15-8ba2-80b6233c5081",
   "metadata": {},
   "outputs": [],
   "source": [
    "L"
   ]
  },
  {
   "cell_type": "code",
   "execution_count": null,
   "id": "8297b04d-c006-4b83-ae98-6b76095c1848",
   "metadata": {},
   "outputs": [],
   "source": [
    "L_i = [smoothness(data[i][0], lambda_) for i in range(num_clients)]"
   ]
  },
  {
   "cell_type": "code",
   "execution_count": null,
   "id": "d78978f4-1dcd-41a2-a09a-ca5e7a56b844",
   "metadata": {},
   "outputs": [],
   "source": [
    "L_tilde = np.sqrt((np.array(L_i) ** 2).mean())"
   ]
  },
  {
   "cell_type": "code",
   "execution_count": null,
   "id": "b42822b7-4216-45bd-af6a-edd6b8b236b8",
   "metadata": {},
   "outputs": [],
   "source": [
    "L_tilde"
   ]
  },
  {
   "cell_type": "markdown",
   "id": "897b3cb5-54ca-4b82-a371-7ab5583f23f3",
   "metadata": {
    "tags": []
   },
   "source": [
    "## Experiments"
   ]
  },
  {
   "cell_type": "code",
   "execution_count": null,
   "id": "31eab4fe-fa85-4f4c-8eba-a90f08793352",
   "metadata": {},
   "outputs": [],
   "source": [
    "max_comm = 100000"
   ]
  },
  {
   "cell_type": "markdown",
   "id": "20229b5f-45bf-42a7-8903-775000b9c425",
   "metadata": {},
   "source": [
    "### 1. LAG tuning"
   ]
  },
  {
   "cell_type": "code",
   "execution_count": null,
   "id": "8da2dd09-bed4-41fe-acb3-1647a04fb829",
   "metadata": {},
   "outputs": [],
   "source": [
    "zetas = np.geomspace(1e-2, 1e1, 4)"
   ]
  },
  {
   "cell_type": "code",
   "execution_count": null,
   "id": "6d5c99cc-b074-4995-8224-6f42939f1f9a",
   "metadata": {},
   "outputs": [],
   "source": [
    "x_0 = np.zeros(d)\n"
   ]
  },
  {
   "cell_type": "code",
   "execution_count": null,
   "id": "8a8a6317-1378-43f2-983c-40580be5b844",
   "metadata": {},
   "outputs": [],
   "source": [
    "LAG_histories = LAG_grid(x_0, data, lambda_, zetas, max_comm)"
   ]
  },
  {
   "cell_type": "code",
   "execution_count": null,
   "id": "9db0cd6f-ac59-4849-ac96-226c1bb6a747",
   "metadata": {},
   "outputs": [],
   "source": [
    "with open('../results/lag_{}.pickle'.format(dataset_name), 'wb') as file:\n",
    "    pickle.dump(LAG_histories, file)"
   ]
  },
  {
   "cell_type": "code",
   "execution_count": null,
   "id": "d6678bff-ed7a-4489-bc95-0c23b78c69ff",
   "metadata": {},
   "outputs": [],
   "source": [
    "min_ind = print_and_return(LAG_histories)"
   ]
  },
  {
   "cell_type": "code",
   "execution_count": null,
   "id": "df47b9da-d097-4027-927b-c48625f324cb",
   "metadata": {},
   "outputs": [],
   "source": [
    "print(min_ind)"
   ]
  },
  {
   "cell_type": "code",
   "execution_count": null,
   "id": "4487494c-08c5-41ae-98e8-e558c06b153d",
   "metadata": {},
   "outputs": [],
   "source": [
    "h_LAG, h_LAG_comm = LAG_histories[min_ind]"
   ]
  },
  {
   "cell_type": "code",
   "execution_count": null,
   "id": "a2c2933c-3443-4eeb-ad27-22122c11de25",
   "metadata": {},
   "outputs": [],
   "source": [
    "# preliminary plot\n",
    "plt.plot(h_LAG_comm, h_LAG)\n",
    "plt.yscale('log')"
   ]
  },
  {
   "cell_type": "markdown",
   "id": "03749931-327e-4a2c-91d5-afeeeb0dd875",
   "metadata": {
    "tags": []
   },
   "source": [
    "### 2. EF21 tuning"
   ]
  },
  {
   "cell_type": "code",
   "execution_count": null,
   "id": "f7cde9b3-02d0-4eef-850a-72d26b9c7834",
   "metadata": {},
   "outputs": [],
   "source": [
    "ks = np.linspace(1, d, 10, endpoint=False, dtype=int)"
   ]
  },
  {
   "cell_type": "code",
   "execution_count": null,
   "id": "b80a8ac4-b862-4f70-aa62-4fc968959620",
   "metadata": {},
   "outputs": [],
   "source": [
    "ks"
   ]
  },
  {
   "cell_type": "code",
   "execution_count": null,
   "id": "81d0d9e4-aefe-400d-b595-177ee6211c19",
   "metadata": {},
   "outputs": [],
   "source": [
    "EF21_histories = EF21_grid(x_0, data, d, lambda_, ks, max_comm)"
   ]
  },
  {
   "cell_type": "code",
   "execution_count": null,
   "id": "cf88f851-e7a2-4c8c-976e-608c2a079579",
   "metadata": {},
   "outputs": [],
   "source": [
    "with open('../results/ef21_{}.pickle'.format(dataset_name), 'wb') as file:\n",
    "    pickle.dump(EF21_histories, file)"
   ]
  },
  {
   "cell_type": "code",
   "execution_count": null,
   "id": "002d0b72-d7b2-475a-8658-21e9cf27dd50",
   "metadata": {},
   "outputs": [],
   "source": [
    "min_ind = print_and_return(EF21_histories)"
   ]
  },
  {
   "cell_type": "code",
   "execution_count": null,
   "id": "ce40e59f-08f9-4e61-8b1a-b58591c6bf8a",
   "metadata": {},
   "outputs": [],
   "source": [
    "min_ind"
   ]
  },
  {
   "cell_type": "code",
   "execution_count": null,
   "id": "8d184a18-21ed-4e57-abe2-463ecd1fcec1",
   "metadata": {},
   "outputs": [],
   "source": [
    "h_EF21, h_EF21_comm = EF21_histories[min_ind]"
   ]
  },
  {
   "cell_type": "code",
   "execution_count": null,
   "id": "e1e22262-0d41-491d-baac-6e1f75558e04",
   "metadata": {},
   "outputs": [],
   "source": [
    "# preliminary plot\n",
    "plt.plot(h_LAG_comm, h_LAG, label='LAG')\n",
    "plt.plot(h_EF21_comm, h_EF21, label='EF21')\n",
    "plt.legend()\n",
    "plt.yscale('log')"
   ]
  },
  {
   "cell_type": "markdown",
   "id": "e60a9116-d7e6-49cb-a6b5-7c8f1296959f",
   "metadata": {},
   "source": [
    "### 3. CLAG tuning"
   ]
  },
  {
   "cell_type": "code",
   "execution_count": null,
   "id": "14598bf6-df96-472b-b1d7-0d40050faa49",
   "metadata": {},
   "outputs": [],
   "source": [
    "ks = np.flip(np.linspace(1, d, 6, endpoint=True, dtype=int))"
   ]
  },
  {
   "cell_type": "code",
   "execution_count": null,
   "id": "6c7447d2-fda3-4dc2-83ca-08fe834fad1c",
   "metadata": {},
   "outputs": [],
   "source": [
    "ks = ks[:-1]"
   ]
  },
  {
   "cell_type": "code",
   "execution_count": null,
   "id": "798048a4-a50a-4601-9c8a-346f36071c8e",
   "metadata": {},
   "outputs": [],
   "source": [
    "ks"
   ]
  },
  {
   "cell_type": "code",
   "execution_count": null,
   "id": "105e1461-0cf0-4e10-a1e2-8569a8f30fe1",
   "metadata": {},
   "outputs": [],
   "source": [
    "trigger_betas = np.linspace(0, 50, 6, endpoint=True)"
   ]
  },
  {
   "cell_type": "code",
   "execution_count": null,
   "id": "8fc563d9-508f-4093-b9ae-a42726abdd38",
   "metadata": {},
   "outputs": [],
   "source": [
    "trigger_betas"
   ]
  },
  {
   "cell_type": "code",
   "execution_count": null,
   "id": "8dfaf511-1c7a-4c48-9bb9-7bdcb93af64d",
   "metadata": {},
   "outputs": [],
   "source": [
    "beta_multipliers = np.geomspace(1e-1, 10, num=3)"
   ]
  },
  {
   "cell_type": "code",
   "execution_count": null,
   "id": "d561312e-f8ba-4f23-bfd4-c8ff042bb0d0",
   "metadata": {},
   "outputs": [],
   "source": [
    "beta_multipliers"
   ]
  },
  {
   "cell_type": "code",
   "execution_count": null,
   "id": "1988c86d-0a7b-4d85-b669-eead6d8db6a5",
   "metadata": {},
   "outputs": [],
   "source": [
    "ks"
   ]
  },
  {
   "cell_type": "code",
   "execution_count": null,
   "id": "7dd8ee6c-e830-43e4-902b-52e16674b7fd",
   "metadata": {},
   "outputs": [],
   "source": [
    "CLAG_histories = CLAG_grid(x_0, data, lambda_, ks, beta_multipliers, max_comm)"
   ]
  },
  {
   "cell_type": "code",
   "execution_count": null,
   "id": "dced172f-ec2e-4d97-8caa-9b8d7f10d077",
   "metadata": {},
   "outputs": [],
   "source": [
    "with open('../results/clag_{}.pickle'.format(dataset_name), 'wb') as file:\n",
    "    pickle.dump(CLAG_histories, file)"
   ]
  },
  {
   "cell_type": "code",
   "execution_count": null,
   "id": "28bd2f33-4132-4435-a58a-76b59e82c28e",
   "metadata": {},
   "outputs": [],
   "source": [
    "len(CLAG_histories)"
   ]
  },
  {
   "cell_type": "code",
   "execution_count": null,
   "id": "1d562e37-63f9-4b55-9e68-13a671d5a0a1",
   "metadata": {},
   "outputs": [],
   "source": [
    "min_inds = []\n",
    "for hist_k in CLAG_histories:\n",
    "    ind = print_and_return(hist_k)\n",
    "    min_inds.append(ind)"
   ]
  },
  {
   "cell_type": "code",
   "execution_count": null,
   "id": "5a4d81c3-8097-420c-9e79-e06c522ae179",
   "metadata": {},
   "outputs": [],
   "source": [
    "min_inds"
   ]
  },
  {
   "cell_type": "code",
   "execution_count": null,
   "id": "3eb2e656-2a19-4280-a08e-f96183128101",
   "metadata": {},
   "outputs": [],
   "source": [
    "min_list = [CLAG_histories[ind][min_inds[ind]] for ind in range(len(ks))]"
   ]
  },
  {
   "cell_type": "code",
   "execution_count": null,
   "id": "05c1dd2b-c981-40b1-908f-5ac1c62ce913",
   "metadata": {},
   "outputs": [],
   "source": [
    "min_ind = print_and_return(min_list)"
   ]
  },
  {
   "cell_type": "code",
   "execution_count": null,
   "id": "2dcf0e0c-423d-457d-a186-d18d1d01aecf",
   "metadata": {},
   "outputs": [],
   "source": [
    "min_ind"
   ]
  },
  {
   "cell_type": "code",
   "execution_count": null,
   "id": "b1f0b298-e8a8-4dc6-9a57-715171e5f86d",
   "metadata": {},
   "outputs": [],
   "source": [
    "h_CLAG, h_CLAG_comm = min_list[min_ind]"
   ]
  },
  {
   "cell_type": "code",
   "execution_count": null,
   "id": "b90a94a4-1049-4157-b631-82854db09912",
   "metadata": {},
   "outputs": [],
   "source": [
    "# preliminary plot\n",
    "plt.plot(h_LAG_comm, h_LAG, label='LAG')\n",
    "plt.plot(h_EF21_comm, h_EF21, label='EF21')\n",
    "plt.plot(h_CLAG_comm, h_CLAG, label='CLAG')\n",
    "plt.legend()\n",
    "plt.yscale('log')"
   ]
  },
  {
   "cell_type": "code",
   "execution_count": null,
   "id": "ff20676c-3419-46ea-ba41-a1f33b640a0d",
   "metadata": {},
   "outputs": [],
   "source": [
    "heatmap = heatmap_CLAG(x_0, data, lambda_, ks, trigger_betas, 1e-2, '../results/heatmap_w6a.npy')"
   ]
  },
  {
   "cell_type": "code",
   "execution_count": null,
   "id": "252ee73f-61a3-4843-88bf-93049af51693",
   "metadata": {},
   "outputs": [],
   "source": [
    "df = pd.DataFrame(heatmap, index=ks, columns=trigger_betas)"
   ]
  },
  {
   "cell_type": "code",
   "execution_count": null,
   "id": "d99c75ba-f6eb-4f95-bb01-a678bd4a69f6",
   "metadata": {},
   "outputs": [],
   "source": [
    "df"
   ]
  },
  {
   "cell_type": "markdown",
   "id": "d34e739f-5186-424c-a5a5-c689698f5b50",
   "metadata": {},
   "source": [
    "### GD"
   ]
  },
  {
   "cell_type": "code",
   "execution_count": null,
   "id": "725c35c2-9362-4b1a-b217-09f0a2b6249a",
   "metadata": {},
   "outputs": [],
   "source": [
    "max_iter = int(max_comm / (num_clients * len(x_0)) + 1)\n",
    "h_GD, h_GD_comm = GD(x_0, data, lambda_, num_clients, max_iter)"
   ]
  },
  {
   "cell_type": "markdown",
   "id": "68bfca7a-26b0-46e1-bb08-3cb98b8036d6",
   "metadata": {},
   "source": [
    "## Plot"
   ]
  },
  {
   "cell_type": "code",
   "execution_count": null,
   "id": "966a6fc3-5e3e-4595-a9d3-cd5054c98b80",
   "metadata": {},
   "outputs": [],
   "source": [
    "len(h_CLAG_comm)"
   ]
  },
  {
   "cell_type": "code",
   "execution_count": null,
   "id": "0f87bfb1-c246-41d7-b339-0ddbdbce0b9b",
   "metadata": {},
   "outputs": [],
   "source": [
    "plt.plot(h_EF21_comm, h_EF21, label='EF21', marker='+')\n",
    "plt.plot(h_CLAG_comm, h_CLAG, label='CLAG', marker='D',\n",
    "         markevery=700)\n",
    "plt.plot(h_GD_comm, h_GD, label='GD', marker='*')\n",
    "plt.plot(h_LAG_comm, h_LAG, label='LAG', marker='s',\n",
    "         markevery=10)\n",
    "plt.legend()\n",
    "plt.xlabel('# of floats')\n",
    "plt.ylabel(r'$||\\nabla f(x^k)||^2$')\n",
    "plt.title(dataset_name)\n",
    "plt.xlim(left=0)\n",
    "plt.grid()\n",
    "plt.yscale('log')\n",
    "plt.tight_layout()\n",
    "plt.savefig('../results/{}.pdf'.format(dataset_name))"
   ]
  },
  {
   "cell_type": "code",
   "execution_count": null,
   "id": "6a8ee330-89aa-4858-b142-0627625e43fa",
   "metadata": {},
   "outputs": [],
   "source": [
    "h_check, h_check_comm = CLAG(x_0, data, lambda_, 30, 10, 100000)"
   ]
  },
  {
   "cell_type": "code",
   "execution_count": null,
   "id": "8dbdb83e-2e8f-41df-8af1-15e8d47a2c4e",
   "metadata": {},
   "outputs": [],
   "source": [
    "plt.plot(h_check_comm, h_check)\n",
    "plt.yscale('log')"
   ]
  }
 ],
 "metadata": {
  "kernelspec": {
   "display_name": "Python 3 (ipykernel)",
   "language": "python",
   "name": "python3"
  },
  "language_info": {
   "codemirror_mode": {
    "name": "ipython",
    "version": 3
   },
   "file_extension": ".py",
   "mimetype": "text/x-python",
   "name": "python",
   "nbconvert_exporter": "python",
   "pygments_lexer": "ipython3",
   "version": "3.8.12"
  }
 },
 "nbformat": 4,
 "nbformat_minor": 5
}
